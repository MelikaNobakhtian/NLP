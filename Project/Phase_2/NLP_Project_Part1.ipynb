{
  "nbformat": 4,
  "nbformat_minor": 0,
  "metadata": {
    "colab": {
      "name": "Copy of NLP_Project_Part1.ipynb",
      "provenance": [],
      "collapsed_sections": []
    },
    "kernelspec": {
      "name": "python3",
      "display_name": "Python 3"
    },
    "language_info": {
      "name": "python"
    },
    "gpuClass": "standard",
    "widgets": {
      "application/vnd.jupyter.widget-state+json": {
        "ed7443b61a5b418292e0e064ce5f4be0": {
          "model_module": "@jupyter-widgets/controls",
          "model_name": "HBoxModel",
          "model_module_version": "1.5.0",
          "state": {
            "_dom_classes": [],
            "_model_module": "@jupyter-widgets/controls",
            "_model_module_version": "1.5.0",
            "_model_name": "HBoxModel",
            "_view_count": null,
            "_view_module": "@jupyter-widgets/controls",
            "_view_module_version": "1.5.0",
            "_view_name": "HBoxView",
            "box_style": "",
            "children": [
              "IPY_MODEL_9b12be7c1312493dbc42c184ae9dc4c9",
              "IPY_MODEL_3881d0cd6b4f4399a3201f884ba4f622",
              "IPY_MODEL_c6562e8c93ea4f5a84a83664f2d4299d"
            ],
            "layout": "IPY_MODEL_4e811a9171354e02a982d9e880775d85"
          }
        },
        "9b12be7c1312493dbc42c184ae9dc4c9": {
          "model_module": "@jupyter-widgets/controls",
          "model_name": "HTMLModel",
          "model_module_version": "1.5.0",
          "state": {
            "_dom_classes": [],
            "_model_module": "@jupyter-widgets/controls",
            "_model_module_version": "1.5.0",
            "_model_name": "HTMLModel",
            "_view_count": null,
            "_view_module": "@jupyter-widgets/controls",
            "_view_module_version": "1.5.0",
            "_view_name": "HTMLView",
            "description": "",
            "description_tooltip": null,
            "layout": "IPY_MODEL_d39e877494794662bafc9fae47ead6d4",
            "placeholder": "​",
            "style": "IPY_MODEL_b38ca5d51d214c078cca0929be40bc45",
            "value": "100%"
          }
        },
        "3881d0cd6b4f4399a3201f884ba4f622": {
          "model_module": "@jupyter-widgets/controls",
          "model_name": "FloatProgressModel",
          "model_module_version": "1.5.0",
          "state": {
            "_dom_classes": [],
            "_model_module": "@jupyter-widgets/controls",
            "_model_module_version": "1.5.0",
            "_model_name": "FloatProgressModel",
            "_view_count": null,
            "_view_module": "@jupyter-widgets/controls",
            "_view_module_version": "1.5.0",
            "_view_name": "ProgressView",
            "bar_style": "success",
            "description": "",
            "description_tooltip": null,
            "layout": "IPY_MODEL_7002d577954143dba66b623e10b50918",
            "max": 1,
            "min": 0,
            "orientation": "horizontal",
            "style": "IPY_MODEL_06ab785062fc4717922e3a7b40c9145e",
            "value": 1
          }
        },
        "c6562e8c93ea4f5a84a83664f2d4299d": {
          "model_module": "@jupyter-widgets/controls",
          "model_name": "HTMLModel",
          "model_module_version": "1.5.0",
          "state": {
            "_dom_classes": [],
            "_model_module": "@jupyter-widgets/controls",
            "_model_module_version": "1.5.0",
            "_model_name": "HTMLModel",
            "_view_count": null,
            "_view_module": "@jupyter-widgets/controls",
            "_view_module_version": "1.5.0",
            "_view_name": "HTMLView",
            "description": "",
            "description_tooltip": null,
            "layout": "IPY_MODEL_83db58d2c63c439699f3034ed7bb1ede",
            "placeholder": "​",
            "style": "IPY_MODEL_1fe9a14aa3ad41219d159fee44c96d57",
            "value": " 1/1 [22:24&lt;00:00, 1344.58s/it]"
          }
        },
        "4e811a9171354e02a982d9e880775d85": {
          "model_module": "@jupyter-widgets/base",
          "model_name": "LayoutModel",
          "model_module_version": "1.2.0",
          "state": {
            "_model_module": "@jupyter-widgets/base",
            "_model_module_version": "1.2.0",
            "_model_name": "LayoutModel",
            "_view_count": null,
            "_view_module": "@jupyter-widgets/base",
            "_view_module_version": "1.2.0",
            "_view_name": "LayoutView",
            "align_content": null,
            "align_items": null,
            "align_self": null,
            "border": null,
            "bottom": null,
            "display": null,
            "flex": null,
            "flex_flow": null,
            "grid_area": null,
            "grid_auto_columns": null,
            "grid_auto_flow": null,
            "grid_auto_rows": null,
            "grid_column": null,
            "grid_gap": null,
            "grid_row": null,
            "grid_template_areas": null,
            "grid_template_columns": null,
            "grid_template_rows": null,
            "height": null,
            "justify_content": null,
            "justify_items": null,
            "left": null,
            "margin": null,
            "max_height": null,
            "max_width": null,
            "min_height": null,
            "min_width": null,
            "object_fit": null,
            "object_position": null,
            "order": null,
            "overflow": null,
            "overflow_x": null,
            "overflow_y": null,
            "padding": null,
            "right": null,
            "top": null,
            "visibility": null,
            "width": null
          }
        },
        "d39e877494794662bafc9fae47ead6d4": {
          "model_module": "@jupyter-widgets/base",
          "model_name": "LayoutModel",
          "model_module_version": "1.2.0",
          "state": {
            "_model_module": "@jupyter-widgets/base",
            "_model_module_version": "1.2.0",
            "_model_name": "LayoutModel",
            "_view_count": null,
            "_view_module": "@jupyter-widgets/base",
            "_view_module_version": "1.2.0",
            "_view_name": "LayoutView",
            "align_content": null,
            "align_items": null,
            "align_self": null,
            "border": null,
            "bottom": null,
            "display": null,
            "flex": null,
            "flex_flow": null,
            "grid_area": null,
            "grid_auto_columns": null,
            "grid_auto_flow": null,
            "grid_auto_rows": null,
            "grid_column": null,
            "grid_gap": null,
            "grid_row": null,
            "grid_template_areas": null,
            "grid_template_columns": null,
            "grid_template_rows": null,
            "height": null,
            "justify_content": null,
            "justify_items": null,
            "left": null,
            "margin": null,
            "max_height": null,
            "max_width": null,
            "min_height": null,
            "min_width": null,
            "object_fit": null,
            "object_position": null,
            "order": null,
            "overflow": null,
            "overflow_x": null,
            "overflow_y": null,
            "padding": null,
            "right": null,
            "top": null,
            "visibility": null,
            "width": null
          }
        },
        "b38ca5d51d214c078cca0929be40bc45": {
          "model_module": "@jupyter-widgets/controls",
          "model_name": "DescriptionStyleModel",
          "model_module_version": "1.5.0",
          "state": {
            "_model_module": "@jupyter-widgets/controls",
            "_model_module_version": "1.5.0",
            "_model_name": "DescriptionStyleModel",
            "_view_count": null,
            "_view_module": "@jupyter-widgets/base",
            "_view_module_version": "1.2.0",
            "_view_name": "StyleView",
            "description_width": ""
          }
        },
        "7002d577954143dba66b623e10b50918": {
          "model_module": "@jupyter-widgets/base",
          "model_name": "LayoutModel",
          "model_module_version": "1.2.0",
          "state": {
            "_model_module": "@jupyter-widgets/base",
            "_model_module_version": "1.2.0",
            "_model_name": "LayoutModel",
            "_view_count": null,
            "_view_module": "@jupyter-widgets/base",
            "_view_module_version": "1.2.0",
            "_view_name": "LayoutView",
            "align_content": null,
            "align_items": null,
            "align_self": null,
            "border": null,
            "bottom": null,
            "display": null,
            "flex": null,
            "flex_flow": null,
            "grid_area": null,
            "grid_auto_columns": null,
            "grid_auto_flow": null,
            "grid_auto_rows": null,
            "grid_column": null,
            "grid_gap": null,
            "grid_row": null,
            "grid_template_areas": null,
            "grid_template_columns": null,
            "grid_template_rows": null,
            "height": null,
            "justify_content": null,
            "justify_items": null,
            "left": null,
            "margin": null,
            "max_height": null,
            "max_width": null,
            "min_height": null,
            "min_width": null,
            "object_fit": null,
            "object_position": null,
            "order": null,
            "overflow": null,
            "overflow_x": null,
            "overflow_y": null,
            "padding": null,
            "right": null,
            "top": null,
            "visibility": null,
            "width": null
          }
        },
        "06ab785062fc4717922e3a7b40c9145e": {
          "model_module": "@jupyter-widgets/controls",
          "model_name": "ProgressStyleModel",
          "model_module_version": "1.5.0",
          "state": {
            "_model_module": "@jupyter-widgets/controls",
            "_model_module_version": "1.5.0",
            "_model_name": "ProgressStyleModel",
            "_view_count": null,
            "_view_module": "@jupyter-widgets/base",
            "_view_module_version": "1.2.0",
            "_view_name": "StyleView",
            "bar_color": null,
            "description_width": ""
          }
        },
        "83db58d2c63c439699f3034ed7bb1ede": {
          "model_module": "@jupyter-widgets/base",
          "model_name": "LayoutModel",
          "model_module_version": "1.2.0",
          "state": {
            "_model_module": "@jupyter-widgets/base",
            "_model_module_version": "1.2.0",
            "_model_name": "LayoutModel",
            "_view_count": null,
            "_view_module": "@jupyter-widgets/base",
            "_view_module_version": "1.2.0",
            "_view_name": "LayoutView",
            "align_content": null,
            "align_items": null,
            "align_self": null,
            "border": null,
            "bottom": null,
            "display": null,
            "flex": null,
            "flex_flow": null,
            "grid_area": null,
            "grid_auto_columns": null,
            "grid_auto_flow": null,
            "grid_auto_rows": null,
            "grid_column": null,
            "grid_gap": null,
            "grid_row": null,
            "grid_template_areas": null,
            "grid_template_columns": null,
            "grid_template_rows": null,
            "height": null,
            "justify_content": null,
            "justify_items": null,
            "left": null,
            "margin": null,
            "max_height": null,
            "max_width": null,
            "min_height": null,
            "min_width": null,
            "object_fit": null,
            "object_position": null,
            "order": null,
            "overflow": null,
            "overflow_x": null,
            "overflow_y": null,
            "padding": null,
            "right": null,
            "top": null,
            "visibility": null,
            "width": null
          }
        },
        "1fe9a14aa3ad41219d159fee44c96d57": {
          "model_module": "@jupyter-widgets/controls",
          "model_name": "DescriptionStyleModel",
          "model_module_version": "1.5.0",
          "state": {
            "_model_module": "@jupyter-widgets/controls",
            "_model_module_version": "1.5.0",
            "_model_name": "DescriptionStyleModel",
            "_view_count": null,
            "_view_module": "@jupyter-widgets/base",
            "_view_module_version": "1.2.0",
            "_view_name": "StyleView",
            "description_width": ""
          }
        },
        "12bb121c915048779f4f3f833fd50b3f": {
          "model_module": "@jupyter-widgets/controls",
          "model_name": "HBoxModel",
          "model_module_version": "1.5.0",
          "state": {
            "_dom_classes": [],
            "_model_module": "@jupyter-widgets/controls",
            "_model_module_version": "1.5.0",
            "_model_name": "HBoxModel",
            "_view_count": null,
            "_view_module": "@jupyter-widgets/controls",
            "_view_module_version": "1.5.0",
            "_view_name": "HBoxView",
            "box_style": "",
            "children": [
              "IPY_MODEL_c3059cc43ded4d188e0c013c3e7d8182",
              "IPY_MODEL_00ff7016008a46bfa7a0cc331b67f1b0",
              "IPY_MODEL_bb4fd9ee179e4257b9704316384d4837"
            ],
            "layout": "IPY_MODEL_c7ec84f325b8433b89bdb4ac944bd558"
          }
        },
        "c3059cc43ded4d188e0c013c3e7d8182": {
          "model_module": "@jupyter-widgets/controls",
          "model_name": "HTMLModel",
          "model_module_version": "1.5.0",
          "state": {
            "_dom_classes": [],
            "_model_module": "@jupyter-widgets/controls",
            "_model_module_version": "1.5.0",
            "_model_name": "HTMLModel",
            "_view_count": null,
            "_view_module": "@jupyter-widgets/controls",
            "_view_module_version": "1.5.0",
            "_view_name": "HTMLView",
            "description": "",
            "description_tooltip": null,
            "layout": "IPY_MODEL_1fcef8452109429aadf928d2a34b4ccf",
            "placeholder": "​",
            "style": "IPY_MODEL_8f9a90e06351481a8e57a949b0d46cad",
            "value": "100%"
          }
        },
        "00ff7016008a46bfa7a0cc331b67f1b0": {
          "model_module": "@jupyter-widgets/controls",
          "model_name": "FloatProgressModel",
          "model_module_version": "1.5.0",
          "state": {
            "_dom_classes": [],
            "_model_module": "@jupyter-widgets/controls",
            "_model_module_version": "1.5.0",
            "_model_name": "FloatProgressModel",
            "_view_count": null,
            "_view_module": "@jupyter-widgets/controls",
            "_view_module_version": "1.5.0",
            "_view_name": "ProgressView",
            "bar_style": "success",
            "description": "",
            "description_tooltip": null,
            "layout": "IPY_MODEL_e7a2ae3e9422441da648985f057d51ca",
            "max": 16,
            "min": 0,
            "orientation": "horizontal",
            "style": "IPY_MODEL_24999b28cd5c434ba968cc439dd0fb1b",
            "value": 16
          }
        },
        "bb4fd9ee179e4257b9704316384d4837": {
          "model_module": "@jupyter-widgets/controls",
          "model_name": "HTMLModel",
          "model_module_version": "1.5.0",
          "state": {
            "_dom_classes": [],
            "_model_module": "@jupyter-widgets/controls",
            "_model_module_version": "1.5.0",
            "_model_name": "HTMLModel",
            "_view_count": null,
            "_view_module": "@jupyter-widgets/controls",
            "_view_module_version": "1.5.0",
            "_view_name": "HTMLView",
            "description": "",
            "description_tooltip": null,
            "layout": "IPY_MODEL_4b6560feaab84bdf97aaa8884f583809",
            "placeholder": "​",
            "style": "IPY_MODEL_6ffeded053ec47fa8e9569bd1d6295a1",
            "value": " 16/16 [22:24&lt;00:00, 79.21s/it]"
          }
        },
        "c7ec84f325b8433b89bdb4ac944bd558": {
          "model_module": "@jupyter-widgets/base",
          "model_name": "LayoutModel",
          "model_module_version": "1.2.0",
          "state": {
            "_model_module": "@jupyter-widgets/base",
            "_model_module_version": "1.2.0",
            "_model_name": "LayoutModel",
            "_view_count": null,
            "_view_module": "@jupyter-widgets/base",
            "_view_module_version": "1.2.0",
            "_view_name": "LayoutView",
            "align_content": null,
            "align_items": null,
            "align_self": null,
            "border": null,
            "bottom": null,
            "display": null,
            "flex": null,
            "flex_flow": null,
            "grid_area": null,
            "grid_auto_columns": null,
            "grid_auto_flow": null,
            "grid_auto_rows": null,
            "grid_column": null,
            "grid_gap": null,
            "grid_row": null,
            "grid_template_areas": null,
            "grid_template_columns": null,
            "grid_template_rows": null,
            "height": null,
            "justify_content": null,
            "justify_items": null,
            "left": null,
            "margin": null,
            "max_height": null,
            "max_width": null,
            "min_height": null,
            "min_width": null,
            "object_fit": null,
            "object_position": null,
            "order": null,
            "overflow": null,
            "overflow_x": null,
            "overflow_y": null,
            "padding": null,
            "right": null,
            "top": null,
            "visibility": null,
            "width": null
          }
        },
        "1fcef8452109429aadf928d2a34b4ccf": {
          "model_module": "@jupyter-widgets/base",
          "model_name": "LayoutModel",
          "model_module_version": "1.2.0",
          "state": {
            "_model_module": "@jupyter-widgets/base",
            "_model_module_version": "1.2.0",
            "_model_name": "LayoutModel",
            "_view_count": null,
            "_view_module": "@jupyter-widgets/base",
            "_view_module_version": "1.2.0",
            "_view_name": "LayoutView",
            "align_content": null,
            "align_items": null,
            "align_self": null,
            "border": null,
            "bottom": null,
            "display": null,
            "flex": null,
            "flex_flow": null,
            "grid_area": null,
            "grid_auto_columns": null,
            "grid_auto_flow": null,
            "grid_auto_rows": null,
            "grid_column": null,
            "grid_gap": null,
            "grid_row": null,
            "grid_template_areas": null,
            "grid_template_columns": null,
            "grid_template_rows": null,
            "height": null,
            "justify_content": null,
            "justify_items": null,
            "left": null,
            "margin": null,
            "max_height": null,
            "max_width": null,
            "min_height": null,
            "min_width": null,
            "object_fit": null,
            "object_position": null,
            "order": null,
            "overflow": null,
            "overflow_x": null,
            "overflow_y": null,
            "padding": null,
            "right": null,
            "top": null,
            "visibility": null,
            "width": null
          }
        },
        "8f9a90e06351481a8e57a949b0d46cad": {
          "model_module": "@jupyter-widgets/controls",
          "model_name": "DescriptionStyleModel",
          "model_module_version": "1.5.0",
          "state": {
            "_model_module": "@jupyter-widgets/controls",
            "_model_module_version": "1.5.0",
            "_model_name": "DescriptionStyleModel",
            "_view_count": null,
            "_view_module": "@jupyter-widgets/base",
            "_view_module_version": "1.2.0",
            "_view_name": "StyleView",
            "description_width": ""
          }
        },
        "e7a2ae3e9422441da648985f057d51ca": {
          "model_module": "@jupyter-widgets/base",
          "model_name": "LayoutModel",
          "model_module_version": "1.2.0",
          "state": {
            "_model_module": "@jupyter-widgets/base",
            "_model_module_version": "1.2.0",
            "_model_name": "LayoutModel",
            "_view_count": null,
            "_view_module": "@jupyter-widgets/base",
            "_view_module_version": "1.2.0",
            "_view_name": "LayoutView",
            "align_content": null,
            "align_items": null,
            "align_self": null,
            "border": null,
            "bottom": null,
            "display": null,
            "flex": null,
            "flex_flow": null,
            "grid_area": null,
            "grid_auto_columns": null,
            "grid_auto_flow": null,
            "grid_auto_rows": null,
            "grid_column": null,
            "grid_gap": null,
            "grid_row": null,
            "grid_template_areas": null,
            "grid_template_columns": null,
            "grid_template_rows": null,
            "height": null,
            "justify_content": null,
            "justify_items": null,
            "left": null,
            "margin": null,
            "max_height": null,
            "max_width": null,
            "min_height": null,
            "min_width": null,
            "object_fit": null,
            "object_position": null,
            "order": null,
            "overflow": null,
            "overflow_x": null,
            "overflow_y": null,
            "padding": null,
            "right": null,
            "top": null,
            "visibility": null,
            "width": null
          }
        },
        "24999b28cd5c434ba968cc439dd0fb1b": {
          "model_module": "@jupyter-widgets/controls",
          "model_name": "ProgressStyleModel",
          "model_module_version": "1.5.0",
          "state": {
            "_model_module": "@jupyter-widgets/controls",
            "_model_module_version": "1.5.0",
            "_model_name": "ProgressStyleModel",
            "_view_count": null,
            "_view_module": "@jupyter-widgets/base",
            "_view_module_version": "1.2.0",
            "_view_name": "StyleView",
            "bar_color": null,
            "description_width": ""
          }
        },
        "4b6560feaab84bdf97aaa8884f583809": {
          "model_module": "@jupyter-widgets/base",
          "model_name": "LayoutModel",
          "model_module_version": "1.2.0",
          "state": {
            "_model_module": "@jupyter-widgets/base",
            "_model_module_version": "1.2.0",
            "_model_name": "LayoutModel",
            "_view_count": null,
            "_view_module": "@jupyter-widgets/base",
            "_view_module_version": "1.2.0",
            "_view_name": "LayoutView",
            "align_content": null,
            "align_items": null,
            "align_self": null,
            "border": null,
            "bottom": null,
            "display": null,
            "flex": null,
            "flex_flow": null,
            "grid_area": null,
            "grid_auto_columns": null,
            "grid_auto_flow": null,
            "grid_auto_rows": null,
            "grid_column": null,
            "grid_gap": null,
            "grid_row": null,
            "grid_template_areas": null,
            "grid_template_columns": null,
            "grid_template_rows": null,
            "height": null,
            "justify_content": null,
            "justify_items": null,
            "left": null,
            "margin": null,
            "max_height": null,
            "max_width": null,
            "min_height": null,
            "min_width": null,
            "object_fit": null,
            "object_position": null,
            "order": null,
            "overflow": null,
            "overflow_x": null,
            "overflow_y": null,
            "padding": null,
            "right": null,
            "top": null,
            "visibility": null,
            "width": null
          }
        },
        "6ffeded053ec47fa8e9569bd1d6295a1": {
          "model_module": "@jupyter-widgets/controls",
          "model_name": "DescriptionStyleModel",
          "model_module_version": "1.5.0",
          "state": {
            "_model_module": "@jupyter-widgets/controls",
            "_model_module_version": "1.5.0",
            "_model_name": "DescriptionStyleModel",
            "_view_count": null,
            "_view_module": "@jupyter-widgets/base",
            "_view_module_version": "1.2.0",
            "_view_name": "StyleView",
            "description_width": ""
          }
        },
        "c5725aedb840492694fa4b2cc0fd0f7c": {
          "model_module": "@jupyter-widgets/controls",
          "model_name": "HBoxModel",
          "model_module_version": "1.5.0",
          "state": {
            "_dom_classes": [],
            "_model_module": "@jupyter-widgets/controls",
            "_model_module_version": "1.5.0",
            "_model_name": "HBoxModel",
            "_view_count": null,
            "_view_module": "@jupyter-widgets/controls",
            "_view_module_version": "1.5.0",
            "_view_name": "HBoxView",
            "box_style": "",
            "children": [
              "IPY_MODEL_ed5c4b0996b946ea820a8b3789ed732a",
              "IPY_MODEL_31c97c54116848aa8ec1b4b2a9550be0",
              "IPY_MODEL_ed7c016418c04d66b037af2e680ede24"
            ],
            "layout": "IPY_MODEL_2cd7520f4a294e73b69b45e2ef57ffd0"
          }
        },
        "ed5c4b0996b946ea820a8b3789ed732a": {
          "model_module": "@jupyter-widgets/controls",
          "model_name": "HTMLModel",
          "model_module_version": "1.5.0",
          "state": {
            "_dom_classes": [],
            "_model_module": "@jupyter-widgets/controls",
            "_model_module_version": "1.5.0",
            "_model_name": "HTMLModel",
            "_view_count": null,
            "_view_module": "@jupyter-widgets/controls",
            "_view_module_version": "1.5.0",
            "_view_name": "HTMLView",
            "description": "",
            "description_tooltip": null,
            "layout": "IPY_MODEL_25f8f2a669864ea69b0d51cfbff39b8d",
            "placeholder": "​",
            "style": "IPY_MODEL_bc56fecef9c045fb919dbb70a85d4bc6",
            "value": "100%"
          }
        },
        "31c97c54116848aa8ec1b4b2a9550be0": {
          "model_module": "@jupyter-widgets/controls",
          "model_name": "FloatProgressModel",
          "model_module_version": "1.5.0",
          "state": {
            "_dom_classes": [],
            "_model_module": "@jupyter-widgets/controls",
            "_model_module_version": "1.5.0",
            "_model_name": "FloatProgressModel",
            "_view_count": null,
            "_view_module": "@jupyter-widgets/controls",
            "_view_module_version": "1.5.0",
            "_view_name": "ProgressView",
            "bar_style": "success",
            "description": "",
            "description_tooltip": null,
            "layout": "IPY_MODEL_a74c9cbbee9c4b658722861016610b10",
            "max": 4,
            "min": 0,
            "orientation": "horizontal",
            "style": "IPY_MODEL_a5a53b0b68f14232a0c42bab5c2a969b",
            "value": 4
          }
        },
        "ed7c016418c04d66b037af2e680ede24": {
          "model_module": "@jupyter-widgets/controls",
          "model_name": "HTMLModel",
          "model_module_version": "1.5.0",
          "state": {
            "_dom_classes": [],
            "_model_module": "@jupyter-widgets/controls",
            "_model_module_version": "1.5.0",
            "_model_name": "HTMLModel",
            "_view_count": null,
            "_view_module": "@jupyter-widgets/controls",
            "_view_module_version": "1.5.0",
            "_view_name": "HTMLView",
            "description": "",
            "description_tooltip": null,
            "layout": "IPY_MODEL_3089e07274f34f31b010b7157787f254",
            "placeholder": "​",
            "style": "IPY_MODEL_19994817850940ccb40846922b174971",
            "value": " 4/4 [00:25&lt;00:00,  6.26s/it]"
          }
        },
        "2cd7520f4a294e73b69b45e2ef57ffd0": {
          "model_module": "@jupyter-widgets/base",
          "model_name": "LayoutModel",
          "model_module_version": "1.2.0",
          "state": {
            "_model_module": "@jupyter-widgets/base",
            "_model_module_version": "1.2.0",
            "_model_name": "LayoutModel",
            "_view_count": null,
            "_view_module": "@jupyter-widgets/base",
            "_view_module_version": "1.2.0",
            "_view_name": "LayoutView",
            "align_content": null,
            "align_items": null,
            "align_self": null,
            "border": null,
            "bottom": null,
            "display": null,
            "flex": null,
            "flex_flow": null,
            "grid_area": null,
            "grid_auto_columns": null,
            "grid_auto_flow": null,
            "grid_auto_rows": null,
            "grid_column": null,
            "grid_gap": null,
            "grid_row": null,
            "grid_template_areas": null,
            "grid_template_columns": null,
            "grid_template_rows": null,
            "height": null,
            "justify_content": null,
            "justify_items": null,
            "left": null,
            "margin": null,
            "max_height": null,
            "max_width": null,
            "min_height": null,
            "min_width": null,
            "object_fit": null,
            "object_position": null,
            "order": null,
            "overflow": null,
            "overflow_x": null,
            "overflow_y": null,
            "padding": null,
            "right": null,
            "top": null,
            "visibility": null,
            "width": null
          }
        },
        "25f8f2a669864ea69b0d51cfbff39b8d": {
          "model_module": "@jupyter-widgets/base",
          "model_name": "LayoutModel",
          "model_module_version": "1.2.0",
          "state": {
            "_model_module": "@jupyter-widgets/base",
            "_model_module_version": "1.2.0",
            "_model_name": "LayoutModel",
            "_view_count": null,
            "_view_module": "@jupyter-widgets/base",
            "_view_module_version": "1.2.0",
            "_view_name": "LayoutView",
            "align_content": null,
            "align_items": null,
            "align_self": null,
            "border": null,
            "bottom": null,
            "display": null,
            "flex": null,
            "flex_flow": null,
            "grid_area": null,
            "grid_auto_columns": null,
            "grid_auto_flow": null,
            "grid_auto_rows": null,
            "grid_column": null,
            "grid_gap": null,
            "grid_row": null,
            "grid_template_areas": null,
            "grid_template_columns": null,
            "grid_template_rows": null,
            "height": null,
            "justify_content": null,
            "justify_items": null,
            "left": null,
            "margin": null,
            "max_height": null,
            "max_width": null,
            "min_height": null,
            "min_width": null,
            "object_fit": null,
            "object_position": null,
            "order": null,
            "overflow": null,
            "overflow_x": null,
            "overflow_y": null,
            "padding": null,
            "right": null,
            "top": null,
            "visibility": null,
            "width": null
          }
        },
        "bc56fecef9c045fb919dbb70a85d4bc6": {
          "model_module": "@jupyter-widgets/controls",
          "model_name": "DescriptionStyleModel",
          "model_module_version": "1.5.0",
          "state": {
            "_model_module": "@jupyter-widgets/controls",
            "_model_module_version": "1.5.0",
            "_model_name": "DescriptionStyleModel",
            "_view_count": null,
            "_view_module": "@jupyter-widgets/base",
            "_view_module_version": "1.2.0",
            "_view_name": "StyleView",
            "description_width": ""
          }
        },
        "a74c9cbbee9c4b658722861016610b10": {
          "model_module": "@jupyter-widgets/base",
          "model_name": "LayoutModel",
          "model_module_version": "1.2.0",
          "state": {
            "_model_module": "@jupyter-widgets/base",
            "_model_module_version": "1.2.0",
            "_model_name": "LayoutModel",
            "_view_count": null,
            "_view_module": "@jupyter-widgets/base",
            "_view_module_version": "1.2.0",
            "_view_name": "LayoutView",
            "align_content": null,
            "align_items": null,
            "align_self": null,
            "border": null,
            "bottom": null,
            "display": null,
            "flex": null,
            "flex_flow": null,
            "grid_area": null,
            "grid_auto_columns": null,
            "grid_auto_flow": null,
            "grid_auto_rows": null,
            "grid_column": null,
            "grid_gap": null,
            "grid_row": null,
            "grid_template_areas": null,
            "grid_template_columns": null,
            "grid_template_rows": null,
            "height": null,
            "justify_content": null,
            "justify_items": null,
            "left": null,
            "margin": null,
            "max_height": null,
            "max_width": null,
            "min_height": null,
            "min_width": null,
            "object_fit": null,
            "object_position": null,
            "order": null,
            "overflow": null,
            "overflow_x": null,
            "overflow_y": null,
            "padding": null,
            "right": null,
            "top": null,
            "visibility": null,
            "width": null
          }
        },
        "a5a53b0b68f14232a0c42bab5c2a969b": {
          "model_module": "@jupyter-widgets/controls",
          "model_name": "ProgressStyleModel",
          "model_module_version": "1.5.0",
          "state": {
            "_model_module": "@jupyter-widgets/controls",
            "_model_module_version": "1.5.0",
            "_model_name": "ProgressStyleModel",
            "_view_count": null,
            "_view_module": "@jupyter-widgets/base",
            "_view_module_version": "1.2.0",
            "_view_name": "StyleView",
            "bar_color": null,
            "description_width": ""
          }
        },
        "3089e07274f34f31b010b7157787f254": {
          "model_module": "@jupyter-widgets/base",
          "model_name": "LayoutModel",
          "model_module_version": "1.2.0",
          "state": {
            "_model_module": "@jupyter-widgets/base",
            "_model_module_version": "1.2.0",
            "_model_name": "LayoutModel",
            "_view_count": null,
            "_view_module": "@jupyter-widgets/base",
            "_view_module_version": "1.2.0",
            "_view_name": "LayoutView",
            "align_content": null,
            "align_items": null,
            "align_self": null,
            "border": null,
            "bottom": null,
            "display": null,
            "flex": null,
            "flex_flow": null,
            "grid_area": null,
            "grid_auto_columns": null,
            "grid_auto_flow": null,
            "grid_auto_rows": null,
            "grid_column": null,
            "grid_gap": null,
            "grid_row": null,
            "grid_template_areas": null,
            "grid_template_columns": null,
            "grid_template_rows": null,
            "height": null,
            "justify_content": null,
            "justify_items": null,
            "left": null,
            "margin": null,
            "max_height": null,
            "max_width": null,
            "min_height": null,
            "min_width": null,
            "object_fit": null,
            "object_position": null,
            "order": null,
            "overflow": null,
            "overflow_x": null,
            "overflow_y": null,
            "padding": null,
            "right": null,
            "top": null,
            "visibility": null,
            "width": null
          }
        },
        "19994817850940ccb40846922b174971": {
          "model_module": "@jupyter-widgets/controls",
          "model_name": "DescriptionStyleModel",
          "model_module_version": "1.5.0",
          "state": {
            "_model_module": "@jupyter-widgets/controls",
            "_model_module_version": "1.5.0",
            "_model_name": "DescriptionStyleModel",
            "_view_count": null,
            "_view_module": "@jupyter-widgets/base",
            "_view_module_version": "1.2.0",
            "_view_name": "StyleView",
            "description_width": ""
          }
        }
      }
    }
  },
  "cells": [
    {
      "cell_type": "markdown",
      "source": [
        "# Installs & Imports"
      ],
      "metadata": {
        "id": "poKDo8yypUqg"
      }
    },
    {
      "cell_type": "code",
      "execution_count": null,
      "metadata": {
        "colab": {
          "base_uri": "https://localhost:8080/"
        },
        "id": "45QuQOhr-BfP",
        "outputId": "41799a17-0122-427a-bac6-c54e63bd9f71"
      },
      "outputs": [
        {
          "output_type": "stream",
          "name": "stdout",
          "text": [
            "Looking in indexes: https://pypi.org/simple, https://us-python.pkg.dev/colab-wheels/public/simple/\n",
            "Requirement already satisfied: tqdm in /usr/local/lib/python3.7/dist-packages (4.64.0)\n"
          ]
        }
      ],
      "source": [
        "!pip install tqdm"
      ]
    },
    {
      "cell_type": "code",
      "source": [
        "!pip install --upgrade --no-cache-dir gdown"
      ],
      "metadata": {
        "colab": {
          "base_uri": "https://localhost:8080/"
        },
        "id": "Qd5D3mvnDaaA",
        "outputId": "6f3b3ce6-81ef-47db-d6b9-a14a57bb9ead"
      },
      "execution_count": null,
      "outputs": [
        {
          "output_type": "stream",
          "name": "stdout",
          "text": [
            "Looking in indexes: https://pypi.org/simple, https://us-python.pkg.dev/colab-wheels/public/simple/\n",
            "Requirement already satisfied: gdown in /usr/local/lib/python3.7/dist-packages (4.5.1)\n",
            "Requirement already satisfied: beautifulsoup4 in /usr/local/lib/python3.7/dist-packages (from gdown) (4.6.3)\n",
            "Requirement already satisfied: six in /usr/local/lib/python3.7/dist-packages (from gdown) (1.15.0)\n",
            "Requirement already satisfied: filelock in /usr/local/lib/python3.7/dist-packages (from gdown) (3.7.1)\n",
            "Requirement already satisfied: tqdm in /usr/local/lib/python3.7/dist-packages (from gdown) (4.64.0)\n",
            "Requirement already satisfied: requests[socks] in /usr/local/lib/python3.7/dist-packages (from gdown) (2.23.0)\n",
            "Requirement already satisfied: chardet<4,>=3.0.2 in /usr/local/lib/python3.7/dist-packages (from requests[socks]->gdown) (3.0.4)\n",
            "Requirement already satisfied: urllib3!=1.25.0,!=1.25.1,<1.26,>=1.21.1 in /usr/local/lib/python3.7/dist-packages (from requests[socks]->gdown) (1.25.11)\n",
            "Requirement already satisfied: certifi>=2017.4.17 in /usr/local/lib/python3.7/dist-packages (from requests[socks]->gdown) (2022.6.15)\n",
            "Requirement already satisfied: idna<3,>=2.5 in /usr/local/lib/python3.7/dist-packages (from requests[socks]->gdown) (2.10)\n",
            "Requirement already satisfied: PySocks!=1.5.7,>=1.5.6 in /usr/local/lib/python3.7/dist-packages (from requests[socks]->gdown) (1.7.1)\n"
          ]
        }
      ]
    },
    {
      "cell_type": "code",
      "source": [
        "#To get the dataset from drive\n",
        "# mount Google Drive\n",
        "from google.colab import drive\n",
        "drive.mount('/content/gdrive')\n",
        "\n",
        "!mkdir dataset\n",
        "!unzip gdrive/MyDrive/NLP_dataset.zip -d dataset"
      ],
      "metadata": {
        "colab": {
          "base_uri": "https://localhost:8080/"
        },
        "id": "hUDkro8rDfwT",
        "outputId": "9265fd55-226d-411b-efee-c05d990d20d2"
      },
      "execution_count": null,
      "outputs": [
        {
          "output_type": "stream",
          "name": "stdout",
          "text": [
            "Drive already mounted at /content/gdrive; to attempt to forcibly remount, call drive.mount(\"/content/gdrive\", force_remount=True).\n",
            "mkdir: cannot create directory ‘dataset’: File exists\n",
            "Archive:  gdrive/MyDrive/NLP_dataset.zip\n",
            "replace dataset/cleaned_dataset.json? [y]es, [n]o, [A]ll, [N]one, [r]ename: "
          ]
        }
      ]
    },
    {
      "cell_type": "code",
      "source": [
        "!pip install pytorch-pretrained-bert"
      ],
      "metadata": {
        "colab": {
          "base_uri": "https://localhost:8080/"
        },
        "id": "HMQk4YqOKbU3",
        "outputId": "f3a98939-e7bd-4d4d-a667-e9d561259441"
      },
      "execution_count": null,
      "outputs": [
        {
          "output_type": "stream",
          "name": "stdout",
          "text": [
            "Looking in indexes: https://pypi.org/simple, https://us-python.pkg.dev/colab-wheels/public/simple/\n",
            "Requirement already satisfied: pytorch-pretrained-bert in /usr/local/lib/python3.7/dist-packages (0.6.2)\n",
            "Requirement already satisfied: requests in /usr/local/lib/python3.7/dist-packages (from pytorch-pretrained-bert) (2.23.0)\n",
            "Requirement already satisfied: numpy in /usr/local/lib/python3.7/dist-packages (from pytorch-pretrained-bert) (1.21.6)\n",
            "Requirement already satisfied: regex in /usr/local/lib/python3.7/dist-packages (from pytorch-pretrained-bert) (2022.6.2)\n",
            "Requirement already satisfied: tqdm in /usr/local/lib/python3.7/dist-packages (from pytorch-pretrained-bert) (4.64.0)\n",
            "Requirement already satisfied: torch>=0.4.1 in /usr/local/lib/python3.7/dist-packages (from pytorch-pretrained-bert) (1.11.0+cu113)\n",
            "Requirement already satisfied: boto3 in /usr/local/lib/python3.7/dist-packages (from pytorch-pretrained-bert) (1.24.26)\n",
            "Requirement already satisfied: typing-extensions in /usr/local/lib/python3.7/dist-packages (from torch>=0.4.1->pytorch-pretrained-bert) (4.1.1)\n",
            "Requirement already satisfied: botocore<1.28.0,>=1.27.26 in /usr/local/lib/python3.7/dist-packages (from boto3->pytorch-pretrained-bert) (1.27.26)\n",
            "Requirement already satisfied: s3transfer<0.7.0,>=0.6.0 in /usr/local/lib/python3.7/dist-packages (from boto3->pytorch-pretrained-bert) (0.6.0)\n",
            "Requirement already satisfied: jmespath<2.0.0,>=0.7.1 in /usr/local/lib/python3.7/dist-packages (from boto3->pytorch-pretrained-bert) (1.0.1)\n",
            "Requirement already satisfied: urllib3<1.27,>=1.25.4 in /usr/local/lib/python3.7/dist-packages (from botocore<1.28.0,>=1.27.26->boto3->pytorch-pretrained-bert) (1.25.11)\n",
            "Requirement already satisfied: python-dateutil<3.0.0,>=2.1 in /usr/local/lib/python3.7/dist-packages (from botocore<1.28.0,>=1.27.26->boto3->pytorch-pretrained-bert) (2.8.2)\n",
            "Requirement already satisfied: six>=1.5 in /usr/local/lib/python3.7/dist-packages (from python-dateutil<3.0.0,>=2.1->botocore<1.28.0,>=1.27.26->boto3->pytorch-pretrained-bert) (1.15.0)\n",
            "Requirement already satisfied: certifi>=2017.4.17 in /usr/local/lib/python3.7/dist-packages (from requests->pytorch-pretrained-bert) (2022.6.15)\n",
            "Requirement already satisfied: chardet<4,>=3.0.2 in /usr/local/lib/python3.7/dist-packages (from requests->pytorch-pretrained-bert) (3.0.4)\n",
            "Requirement already satisfied: idna<3,>=2.5 in /usr/local/lib/python3.7/dist-packages (from requests->pytorch-pretrained-bert) (2.10)\n"
          ]
        }
      ]
    },
    {
      "cell_type": "code",
      "source": [
        "import torch.nn as nn\n",
        "import torch\n",
        "from torch.nn.utils.rnn import pack_padded_sequence\n",
        "from nltk.translate.bleu_score import corpus_bleu\n",
        "from tqdm import tqdm_notebook as tqdm\n",
        "import torchvision.models as models\n",
        "from torch.autograd import Variable\n",
        "import torch.nn.functional as F\n",
        "import numpy as np\n",
        "import json\n",
        "import torchvision.transforms as transforms\n",
        "import matplotlib.pyplot as plt\n",
        "import matplotlib.cm as cm\n",
        "import skimage.transform\n",
        "import argparse\n",
        "from PIL import Image\n",
        "import matplotlib.image as mpimg\n",
        "from IPython import display\n",
        "from torchtext.vocab import Vectors, GloVe\n",
        "from scipy import misc\n",
        "import torch\n",
        "from pytorch_pretrained_bert import BertTokenizer, BertModel, BertForMaskedLM\n",
        "import os\n",
        "import pickle\n",
        "from collections import Counter\n",
        "import torch.utils.data as data\n",
        "from torchvision import transforms"
      ],
      "metadata": {
        "id": "vWguuPL2J5Mz"
      },
      "execution_count": 1,
      "outputs": []
    },
    {
      "cell_type": "code",
      "source": [
        "import nltk\n",
        "nltk.download('punkt')"
      ],
      "metadata": {
        "colab": {
          "base_uri": "https://localhost:8080/"
        },
        "id": "t-raap7N22Po",
        "outputId": "70cd4dbf-6edd-4495-a547-623730fd2e9e"
      },
      "execution_count": 2,
      "outputs": [
        {
          "output_type": "stream",
          "name": "stderr",
          "text": [
            "[nltk_data] Downloading package punkt to /root/nltk_data...\n",
            "[nltk_data]   Package punkt is already up-to-date!\n"
          ]
        },
        {
          "output_type": "execute_result",
          "data": {
            "text/plain": [
              "True"
            ]
          },
          "metadata": {},
          "execution_count": 2
        }
      ]
    },
    {
      "cell_type": "code",
      "source": [
        "use_cuda = torch.cuda.is_available()\n",
        "device = torch.device(\"cuda:0\" if use_cuda else \"cpu\")\n",
        "print(\"using\", device)"
      ],
      "metadata": {
        "colab": {
          "base_uri": "https://localhost:8080/"
        },
        "id": "XpCl9L1E89q6",
        "outputId": "6d27eb8e-ec0e-482f-b51d-bc492d797f13"
      },
      "execution_count": 3,
      "outputs": [
        {
          "output_type": "stream",
          "name": "stdout",
          "text": [
            "using cpu\n"
          ]
        }
      ]
    },
    {
      "cell_type": "markdown",
      "source": [
        "# Preprocess images and captions"
      ],
      "metadata": {
        "id": "hJynTlH7YBNj"
      }
    },
    {
      "cell_type": "code",
      "source": [
        "class Vocabulary(object):\n",
        "    def __init__(self):\n",
        "        self.word2idx = {}\n",
        "        self.idx2word = {}\n",
        "        self.idx = 0\n",
        "\n",
        "    def add_word(self, word):\n",
        "        if not word in self.word2idx:\n",
        "            self.word2idx[word] = self.idx\n",
        "            self.idx2word[self.idx] = word\n",
        "            self.idx += 1\n",
        "\n",
        "    def __call__(self, word):\n",
        "        if not word in self.word2idx:\n",
        "            return self.word2idx['<unk>']\n",
        "        return self.word2idx[word]\n",
        "\n",
        "    def __len__(self):\n",
        "        return len(self.word2idx)\n",
        "\n",
        "def build_vocab(path, count):\n",
        "    with open(path, 'r') as f:\n",
        "        dataset_json = json.load(f)\n",
        "\n",
        "    dataset_json = dataset_json[:count]\n",
        "\n",
        "    vocab = Vocabulary()\n",
        "    vocab.add_word('<pad>') # 0\n",
        "    vocab.add_word('<start>') # 1\n",
        "    vocab.add_word('<end>') # 2\n",
        "    vocab.add_word('<unk>') # 3\n",
        "\n",
        "    for sample in dataset_json:\n",
        "        caption = sample['caption']\n",
        "        tokens = nltk.tokenize.word_tokenize(caption)\n",
        "        for t in tokens:\n",
        "            vocab.add_word(t)\n",
        "\n",
        "    return vocab"
      ],
      "metadata": {
        "id": "csQTfqF7yP86"
      },
      "execution_count": 4,
      "outputs": []
    },
    {
      "cell_type": "code",
      "source": [
        "caption_path = \"dataset/cleaned_dataset.json\"\n",
        "vocab_path = \"gdrive/MyDrive/vocab.pkl\"\n",
        "vocab = build_vocab(caption_path, 500)\n",
        "with open(vocab_path, 'wb') as f:\n",
        "    pickle.dump(vocab, f)"
      ],
      "metadata": {
        "id": "Zj28smFvysRY"
      },
      "execution_count": 5,
      "outputs": []
    },
    {
      "cell_type": "code",
      "source": [
        "print(len(vocab))"
      ],
      "metadata": {
        "colab": {
          "base_uri": "https://localhost:8080/"
        },
        "id": "S-McbLPYNQzd",
        "outputId": "2a74d837-6814-4d0d-c401-b7b0f4af8f87"
      },
      "execution_count": 6,
      "outputs": [
        {
          "output_type": "stream",
          "name": "stdout",
          "text": [
            "1718\n"
          ]
        }
      ]
    },
    {
      "cell_type": "code",
      "source": [
        "def resize_image(image):\n",
        "    width, height = image.size\n",
        "    if width > height:\n",
        "        left = (width - height) / 2\n",
        "        right = width - left\n",
        "        top = 0\n",
        "        bottom = height\n",
        "    else:\n",
        "        top = (height - width) / 2\n",
        "        bottom = height - top\n",
        "        left = 0\n",
        "        right = width\n",
        "    image = image.crop((left, top, right, bottom))\n",
        "    image = image.resize([224, 224], Image.ANTIALIAS)\n",
        "    return image\n",
        "\n",
        "def prepocess_image(caption_path):\n",
        "    with open(caption_path, 'r') as f:\n",
        "        dataset_json = json.load(f)\n",
        "    dataset_len = len(dataset_json)\n",
        "    dataset_ids = [*range(dataset_len)]\n",
        "    image_paths = ['dataset/images/{0:09d}.jpg'.format(id) for id in dataset_ids]\n",
        "    resized_paths = ['gdrive/MyDrive/resized/{0:09d}.jpg'.format(id) for id in dataset_ids]\n",
        "\n",
        "    resized_folder = 'gdrive/MyDrive/resized'\n",
        "    if not os.path.exists(resized_folder):\n",
        "        os.makedirs(resized_folder)\n",
        "\n",
        "        counter = 0\n",
        "        for img_path, resized_path in zip(image_paths, resized_paths):\n",
        "            with Image.open(img_path) as image:\n",
        "                image = resize_image(image)\n",
        "                image.save(resized_path)\n",
        "            if(counter%1000 == 0):\n",
        "                print(\"finished\", counter)\n",
        "            counter += 1"
      ],
      "metadata": {
        "id": "ALYEO6PtYADr"
      },
      "execution_count": 7,
      "outputs": []
    },
    {
      "cell_type": "code",
      "source": [
        "# prepocess_image(caption_path)"
      ],
      "metadata": {
        "colab": {
          "base_uri": "https://localhost:8080/"
        },
        "id": "FuIgx2rqx_Z3",
        "outputId": "4d974b14-5c73-4887-c9d9-b479082a04bc"
      },
      "execution_count": null,
      "outputs": [
        {
          "output_type": "stream",
          "name": "stdout",
          "text": [
            "finished 0\n",
            "finished 1000\n",
            "finished 2000\n",
            "finished 3000\n",
            "finished 4000\n",
            "finished 5000\n",
            "finished 6000\n",
            "finished 7000\n",
            "finished 8000\n",
            "finished 9000\n",
            "finished 10000\n",
            "finished 11000\n",
            "finished 12000\n"
          ]
        }
      ]
    },
    {
      "cell_type": "markdown",
      "source": [
        "# DataLoader"
      ],
      "metadata": {
        "id": "ijEBJf-7HJfs"
      }
    },
    {
      "cell_type": "code",
      "source": [
        "class DataLoader(data.Dataset):\n",
        "    def __init__(self, root, dataset, vocab, transform=None):\n",
        "\n",
        "        self.root = root\n",
        "        self.dataset = dataset\n",
        "        self.vocab = vocab\n",
        "        self.transform = transform\n",
        "\n",
        "    def __getitem__(self, index):\n",
        "        vocab = self.vocab\n",
        "        caption = self.dataset[index]['caption']\n",
        "        path = '{0:09d}.jpg'.format(index)\n",
        "        image = Image.open(os.path.join(self.root, path)).convert('RGB')\n",
        "        if self.transform is not None:\n",
        "            image = self.transform(image)\n",
        "\n",
        "        tokens = nltk.tokenize.word_tokenize(str(caption))\n",
        "        caption = []\n",
        "        caption.append(vocab('<start>'))\n",
        "        caption.extend([vocab(token) for token in tokens])\n",
        "        caption.append(vocab('<end>'))\n",
        "        target = torch.Tensor(caption)\n",
        "        return image, target\n",
        "\n",
        "    def __len__(self):\n",
        "        return len(self.dataset)\n",
        "\n",
        "def collate_fn(data):\n",
        "    data.sort(key=lambda  x: len(x[1]), reverse=True)\n",
        "    images, captions = zip(*data)\n",
        "\n",
        "    images = torch.stack(images, 0)\n",
        "\n",
        "    lengths = [len(cap) for cap in captions]\n",
        "    targets = torch.zeros(len(captions), max(lengths)).long()\n",
        "    for i, cap in enumerate(captions):\n",
        "        end = lengths[i]\n",
        "        targets[i, :end] = cap[:end]\n",
        "    return images, targets, lengths\n",
        "\n",
        "def get_loader(vocab, batch_size, count):\n",
        "    root = 'gdrive/MyDrive/resized'\n",
        "    with open('dataset/cleaned_dataset.json', 'r') as f:\n",
        "        dataset_json = json.load(f)  \n",
        "    dataset_json = dataset_json[:count]\n",
        "\n",
        "    # resnet transformation/normalization\n",
        "    transform = transforms.Compose([\n",
        "        transforms.RandomCrop(224),\n",
        "        transforms.RandomHorizontalFlip(),\n",
        "        transforms.ToTensor(),\n",
        "        transforms.Normalize((0.485, 0.456, 0.406),\n",
        "                            (0.229, 0.224, 0.225))])\n",
        "\n",
        "    dataset = DataLoader(root=root, dataset=dataset_json, vocab=vocab, transform=transform)\n",
        "\n",
        "    data_loader = torch.utils.data.DataLoader(dataset=dataset,\n",
        "                                              batch_size=batch_size,\n",
        "                                              shuffle=False,\n",
        "                                              num_workers=1,\n",
        "                                              collate_fn=collate_fn)\n",
        "    return data_loader"
      ],
      "metadata": {
        "id": "EnuzRTYUHJLP"
      },
      "execution_count": 8,
      "outputs": []
    },
    {
      "cell_type": "code",
      "source": [
        "PAD = 0\n",
        "START = 1\n",
        "END = 2\n",
        "UNK = 3\n",
        "\n",
        "grad_clip = 5.\n",
        "num_epochs = 1\n",
        "batch_size = 32\n",
        "decoder_lr = 0.0004\n",
        "\n",
        "# Load vocabulary wrapper\n",
        "with open('gdrive/MyDrive/vocab.pkl', 'rb') as f:\n",
        "    vocab = pickle.load(f)\n",
        "print(len(vocab))\n",
        "\n",
        "# load data\n",
        "train_loader = get_loader(vocab, batch_size, 500)\n",
        "test_loader = get_loader(vocab, 5, 20)"
      ],
      "metadata": {
        "colab": {
          "base_uri": "https://localhost:8080/"
        },
        "id": "3PkmWUB2PLJg",
        "outputId": "47a01c11-8e5a-42ce-b490-95034a3c605d"
      },
      "execution_count": 9,
      "outputs": [
        {
          "output_type": "stream",
          "name": "stdout",
          "text": [
            "1718\n"
          ]
        }
      ]
    },
    {
      "cell_type": "markdown",
      "source": [
        "#Build Model"
      ],
      "metadata": {
        "id": "oXlq7GHeDDbl"
      }
    },
    {
      "cell_type": "code",
      "source": [
        "# Load pre-trained tokenizer (vocabulary)\n",
        "tokenizer = BertTokenizer.from_pretrained('bert-base-uncased')\n",
        "\n",
        "# Load pre-trained model (weights)\n",
        "model = BertModel.from_pretrained('bert-base-uncased')\n",
        "\n",
        "for name, param in list(model.named_parameters())[:-79]: \n",
        "    param.requires_grad = False"
      ],
      "metadata": {
        "id": "HPybbvi7J3xZ"
      },
      "execution_count": 10,
      "outputs": []
    },
    {
      "cell_type": "code",
      "source": [
        "# enocder\n",
        "class Encoder(nn.Module):\n",
        "    def __init__(self):\n",
        "        super(Encoder, self).__init__()\n",
        "        resnet = models.resnet101(pretrained=True)\n",
        "        self.resnet = nn.Sequential(*list(resnet.children())[:-2])\n",
        "        self.adaptive_pool = nn.AdaptiveAvgPool2d((14, 14))\n",
        "\n",
        "    def forward(self, images):\n",
        "        out = self.adaptive_pool(self.resnet(images))\n",
        "        # batch_size, img size, imgs size, 2048\n",
        "        out = out.permute(0, 2, 3, 1)\n",
        "        return out"
      ],
      "metadata": {
        "id": "KmaihsS6KwXs"
      },
      "execution_count": 11,
      "outputs": []
    },
    {
      "cell_type": "code",
      "source": [
        "# decoder\n",
        "class Decoder(nn.Module):\n",
        "\n",
        "    def __init__(self, vocab_size):\n",
        "        super(Decoder, self).__init__()\n",
        "        self.encoder_dim = 2048\n",
        "        self.attention_dim = 512\n",
        "        self.embed_dim = 768\n",
        "            \n",
        "        self.decoder_dim = 512\n",
        "        self.vocab_size = vocab_size\n",
        "        self.dropout = 0.5\n",
        "        \n",
        "        # soft attention\n",
        "        self.enc_att = nn.Linear(2048, 512)\n",
        "        self.dec_att = nn.Linear(512, 512)\n",
        "        self.att = nn.Linear(512, 1)\n",
        "        self.relu = nn.ReLU()\n",
        "        self.softmax = nn.Softmax(dim=1)\n",
        "\n",
        "        # decoder layers\n",
        "        self.dropout = nn.Dropout(p=self.dropout)\n",
        "        self.decode_step = nn.LSTMCell(self.embed_dim + self.encoder_dim, self.decoder_dim, bias=True)\n",
        "        self.h_lin = nn.Linear(self.encoder_dim, self.decoder_dim)\n",
        "        self.c_lin = nn.Linear(self.encoder_dim, self.decoder_dim)\n",
        "        self.f_beta = nn.Linear(self.decoder_dim, self.encoder_dim)\n",
        "        self.sigmoid = nn.Sigmoid()\n",
        "        self.fc = nn.Linear(self.decoder_dim, self.vocab_size)\n",
        "\n",
        "        # init variables\n",
        "        self.fc.bias.data.fill_(0)\n",
        "        self.fc.weight.data.uniform_(-0.1, 0.1)            \n",
        "\n",
        "    def forward(self, encoder_out, encoded_captions, caption_lengths):    \n",
        "        batch_size = encoder_out.size(0)\n",
        "        encoder_dim = encoder_out.size(-1)\n",
        "        vocab_size = self.vocab_size\n",
        "        dec_len = [x-1 for x in caption_lengths]\n",
        "        max_dec_len = int(max(dec_len).item())\n",
        "\n",
        "        encoder_out = encoder_out.view(batch_size, -1, encoder_dim)\n",
        "        num_pixels = encoder_out.size(1)\n",
        "\n",
        "        embeddings = []\n",
        "        for cap_idx in  encoded_captions:\n",
        "            \n",
        "            # padd caption to correct size\n",
        "            while len(cap_idx) < max_dec_len:\n",
        "                cap_idx.append(PAD)\n",
        "                \n",
        "            cap = ' '.join([vocab.idx2word[word_idx.item()] for word_idx in cap_idx])\n",
        "            cap = u'[CLS] '+cap\n",
        "            \n",
        "            tokenized_cap = tokenizer.tokenize(cap)                \n",
        "            indexed_tokens = tokenizer.convert_tokens_to_ids(tokenized_cap)\n",
        "            tokens_tensor = torch.tensor([indexed_tokens])\n",
        "\n",
        "            encoded_layers, _ = model(tokens_tensor)\n",
        "\n",
        "            bert_embedding = encoded_layers[11].squeeze(0)\n",
        "            \n",
        "            split_cap = cap.split()\n",
        "            tokens_embedding = []\n",
        "            j = 0\n",
        "\n",
        "            for full_token in split_cap:\n",
        "                curr_token = ''\n",
        "                x = 0\n",
        "                for i,_ in enumerate(tokenized_cap[1:]): # disregard CLS\n",
        "                    token = tokenized_cap[i+j]\n",
        "                    piece_embedding = bert_embedding[i+j]\n",
        "                    \n",
        "                    # full token\n",
        "                    if token == full_token and curr_token == '' :\n",
        "                        tokens_embedding.append(piece_embedding)\n",
        "                        j += 1\n",
        "                        break\n",
        "                    else: # partial token\n",
        "                        x += 1\n",
        "                        \n",
        "                        if curr_token == '':\n",
        "                            tokens_embedding.append(piece_embedding)\n",
        "                            curr_token += token.replace('#', '')\n",
        "                        else:\n",
        "                            tokens_embedding[-1] = torch.add(tokens_embedding[-1], piece_embedding)\n",
        "                            curr_token += token.replace('#', '')\n",
        "                            \n",
        "                            if curr_token == full_token: # end of partial\n",
        "                                j += x\n",
        "                                break                            \n",
        "            \n",
        "                            \n",
        "            cap_embedding = torch.stack(tokens_embedding)\n",
        "\n",
        "            embeddings.append(cap_embedding)\n",
        "            \n",
        "        embeddings = torch.stack(embeddings)\n",
        "\n",
        "        # init hidden state\n",
        "        avg_enc_out = encoder_out.mean(dim=1)\n",
        "        h = self.h_lin(avg_enc_out)\n",
        "        c = self.c_lin(avg_enc_out)\n",
        "\n",
        "        predictions = torch.zeros(batch_size, max_dec_len, vocab_size)\n",
        "        alphas = torch.zeros(batch_size, max_dec_len, num_pixels)\n",
        "\n",
        "        for t in range(max_dec_len):\n",
        "            batch_size_t = sum([l > t for l in dec_len ])\n",
        "            \n",
        "            # soft-attention\n",
        "            enc_att = self.enc_att(encoder_out[:batch_size_t])\n",
        "            dec_att = self.dec_att(h[:batch_size_t])\n",
        "            att = self.att(self.relu(enc_att + dec_att.unsqueeze(1))).squeeze(2)\n",
        "            alpha = self.softmax(att)\n",
        "            attention_weighted_encoding = (encoder_out[:batch_size_t] * alpha.unsqueeze(2)).sum(dim=1)\n",
        "        \n",
        "            gate = self.sigmoid(self.f_beta(h[:batch_size_t]))\n",
        "            attention_weighted_encoding = gate * attention_weighted_encoding\n",
        "            \n",
        "            batch_embeds = embeddings[:batch_size_t, t, :]  \n",
        "            cat_val = torch.cat([batch_embeds.double(), attention_weighted_encoding.double()], dim=1)\n",
        "            \n",
        "            h, c = self.decode_step(cat_val.float(),(h[:batch_size_t].float(), c[:batch_size_t].float()))\n",
        "            preds = self.fc(self.dropout(h))\n",
        "            predictions[:batch_size_t, t, :] = preds\n",
        "            alphas[:batch_size_t, t, :] = alpha\n",
        "            \n",
        "        # preds, sorted capts, dec lens, attention wieghts\n",
        "        return predictions, encoded_captions, dec_len, alphas"
      ],
      "metadata": {
        "id": "72XKbRjWOksr"
      },
      "execution_count": 12,
      "outputs": []
    },
    {
      "cell_type": "code",
      "source": [
        "# initialize a new model\n",
        "# decoder = Decoder(vocab_size=len(vocab)).to(device)\n",
        "# decoder_optimizer = torch.optim.Adam(params=decoder.parameters(),lr=decoder_lr)\n",
        "\n",
        "# encoder = Encoder().to(device)\n",
        "\n",
        "# load model\n",
        "encoder = Encoder().to(device)\n",
        "encoder_checkpoint = torch.load('./gdrive/MyDrive/checkpoints/encoder')\n",
        "encoder.load_state_dict(encoder_checkpoint['model_state_dict'])\n",
        "\n",
        "decoder = Decoder(vocab_size=len(vocab)).to(device)\n",
        "decoder_optimizer = torch.optim.Adam(params=decoder.parameters(),lr=decoder_lr)\n",
        "decoder_checkpoint = torch.load('./gdrive/MyDrive/checkpoints/decoder')\n",
        "decoder.load_state_dict(decoder_checkpoint['model_state_dict'])\n",
        "decoder_optimizer.load_state_dict(decoder_checkpoint['optimizer_state_dict'])"
      ],
      "metadata": {
        "id": "B-siTxcBedGj"
      },
      "execution_count": 13,
      "outputs": []
    },
    {
      "cell_type": "code",
      "source": [
        "class loss_obj(object):\n",
        "    def __init__(self):\n",
        "        self.avg = 0.\n",
        "        self.sum = 0.\n",
        "        self.count = 0.\n",
        "\n",
        "    def update(self, val, n=1):\n",
        "        self.sum += val * n\n",
        "        self.count += n\n",
        "        self.avg = self.sum / self.count"
      ],
      "metadata": {
        "id": "whmqWp2u19Fw"
      },
      "execution_count": 14,
      "outputs": []
    },
    {
      "cell_type": "code",
      "source": [
        "criterion = nn.CrossEntropyLoss().to(device)"
      ],
      "metadata": {
        "id": "tFe2MyS92p4O"
      },
      "execution_count": 15,
      "outputs": []
    },
    {
      "cell_type": "markdown",
      "source": [
        "# Train"
      ],
      "metadata": {
        "id": "tj-NcI4FsdBv"
      }
    },
    {
      "cell_type": "code",
      "source": [
        "def train():\n",
        "    print(\"Started training...\")\n",
        "    for epoch in tqdm(range(num_epochs)):\n",
        "        decoder.train()\n",
        "        encoder.train()\n",
        "\n",
        "        losses = loss_obj()\n",
        "        num_batches = len(train_loader)\n",
        "\n",
        "        for i, (imgs, caps, caplens) in enumerate(tqdm(train_loader)):\n",
        "            imgs = torch.FloatTensor(imgs).to(device)\n",
        "            # caps = torch.FloatTensor(caps).to(device)\n",
        "            caps = caps.to(device)\n",
        "            caplens = torch.FloatTensor(caplens).to(device)\n",
        "            imgs = encoder(imgs)\n",
        "\n",
        "            scores, caps_sorted, decode_lengths, alphas = decoder(imgs, caps, caplens)\n",
        "            scores = pack_padded_sequence(scores, decode_lengths, batch_first=True)[0]\n",
        "\n",
        "            targets = caps_sorted[:, 1:]\n",
        "            targets = pack_padded_sequence(targets, decode_lengths, batch_first=True)[0]\n",
        "\n",
        "            loss = criterion(scores, targets)\n",
        "            loss += ((1. - alphas.sum(dim=1)) ** 2).mean()\n",
        "\n",
        "            decoder_optimizer.zero_grad()\n",
        "            loss.backward()\n",
        "\n",
        "            # grad_clip decoder\n",
        "            for group in decoder_optimizer.param_groups:\n",
        "                for param in group['params']:\n",
        "                    if param.grad is not None:\n",
        "                        param.grad.data.clamp_(-grad_clip, grad_clip)\n",
        "\n",
        "            decoder_optimizer.step()\n",
        "\n",
        "            losses.update(loss.item(), sum(decode_lengths))\n",
        "            print('Batch '+str(i)+'/'+str(num_batches)+' loss:'+str(losses.avg))\n",
        "\n",
        "            if i % 5 == 0:\n",
        "                print('Batch '+str(i)+'/'+str(num_batches)+' loss:'+str(losses.avg))\n",
        "                \n",
        "                 # adjust learning rate (create condition for this)\n",
        "                for param_group in decoder_optimizer.param_groups:\n",
        "                    param_group['lr'] = param_group['lr'] * 0.5\n",
        "\n",
        "                print('saving model...')\n",
        "\n",
        "                torch.save({\n",
        "                    'epoch': epoch,\n",
        "                    'model_state_dict': decoder.state_dict(),\n",
        "                    'optimizer_state_dict': decoder_optimizer.state_dict(),\n",
        "                    'loss': loss,\n",
        "                    }, './gdrive/MyDrive/checkpoints/decoder')\n",
        "\n",
        "                torch.save({\n",
        "                    'epoch': epoch,\n",
        "                    'model_state_dict': encoder.state_dict(),\n",
        "                    'loss': loss,\n",
        "                    }, './gdrive/MyDrive/checkpoints/encoder')\n",
        "\n",
        "                print('model saved')\n",
        "        \n",
        "        print('Epoch Loss:'+str(losses.avg))\n",
        "\n",
        "    print(\"Completed training...\") "
      ],
      "metadata": {
        "id": "KoxmQT2ue9jv"
      },
      "execution_count": 16,
      "outputs": []
    },
    {
      "cell_type": "code",
      "source": [
        "train()"
      ],
      "metadata": {
        "colab": {
          "base_uri": "https://localhost:8080/",
          "height": 723,
          "referenced_widgets": [
            "ed7443b61a5b418292e0e064ce5f4be0",
            "9b12be7c1312493dbc42c184ae9dc4c9",
            "3881d0cd6b4f4399a3201f884ba4f622",
            "c6562e8c93ea4f5a84a83664f2d4299d",
            "4e811a9171354e02a982d9e880775d85",
            "d39e877494794662bafc9fae47ead6d4",
            "b38ca5d51d214c078cca0929be40bc45",
            "7002d577954143dba66b623e10b50918",
            "06ab785062fc4717922e3a7b40c9145e",
            "83db58d2c63c439699f3034ed7bb1ede",
            "1fe9a14aa3ad41219d159fee44c96d57",
            "12bb121c915048779f4f3f833fd50b3f",
            "c3059cc43ded4d188e0c013c3e7d8182",
            "00ff7016008a46bfa7a0cc331b67f1b0",
            "bb4fd9ee179e4257b9704316384d4837",
            "c7ec84f325b8433b89bdb4ac944bd558",
            "1fcef8452109429aadf928d2a34b4ccf",
            "8f9a90e06351481a8e57a949b0d46cad",
            "e7a2ae3e9422441da648985f057d51ca",
            "24999b28cd5c434ba968cc439dd0fb1b",
            "4b6560feaab84bdf97aaa8884f583809",
            "6ffeded053ec47fa8e9569bd1d6295a1"
          ]
        },
        "id": "VGHfBOuofPdD",
        "outputId": "d73aaa7b-4493-42f3-9f65-add8abe92a7c"
      },
      "execution_count": 17,
      "outputs": [
        {
          "metadata": {
            "tags": null
          },
          "name": "stdout",
          "output_type": "stream",
          "text": [
            "Started training...\n"
          ]
        },
        {
          "metadata": {
            "tags": null
          },
          "name": "stderr",
          "output_type": "stream",
          "text": [
            "/usr/local/lib/python3.7/dist-packages/ipykernel_launcher.py:3: TqdmDeprecationWarning: This function will be removed in tqdm==5.0.0\n",
            "Please use `tqdm.notebook.tqdm` instead of `tqdm.tqdm_notebook`\n",
            "  This is separate from the ipykernel package so we can avoid doing imports until\n"
          ]
        },
        {
          "data": {
            "application/vnd.jupyter.widget-view+json": {
              "model_id": "ed7443b61a5b418292e0e064ce5f4be0",
              "version_major": 2,
              "version_minor": 0
            },
            "text/plain": [
              "  0%|          | 0/1 [00:00<?, ?it/s]"
            ]
          },
          "metadata": {},
          "output_type": "display_data"
        },
        {
          "metadata": {
            "tags": null
          },
          "name": "stderr",
          "output_type": "stream",
          "text": [
            "/usr/local/lib/python3.7/dist-packages/ipykernel_launcher.py:10: TqdmDeprecationWarning: This function will be removed in tqdm==5.0.0\n",
            "Please use `tqdm.notebook.tqdm` instead of `tqdm.tqdm_notebook`\n",
            "  # Remove the CWD from sys.path while we load stuff.\n"
          ]
        },
        {
          "data": {
            "application/vnd.jupyter.widget-view+json": {
              "model_id": "12bb121c915048779f4f3f833fd50b3f",
              "version_major": 2,
              "version_minor": 0
            },
            "text/plain": [
              "  0%|          | 0/16 [00:00<?, ?it/s]"
            ]
          },
          "metadata": {},
          "output_type": "display_data"
        },
        {
          "output_type": "stream",
          "name": "stdout",
          "text": [
            "Batch 0/16 loss:tensor(7.0080)\n",
            "Batch 0/16 loss:tensor(7.0080)\n",
            "saving model...\n",
            "model saved\n",
            "Batch 1/16 loss:tensor(6.9140)\n",
            "Batch 2/16 loss:tensor(6.9299)\n",
            "Batch 3/16 loss:tensor(6.9744)\n",
            "Batch 4/16 loss:tensor(7.0085)\n",
            "Batch 5/16 loss:tensor(7.0224)\n",
            "Batch 5/16 loss:tensor(7.0224)\n",
            "saving model...\n",
            "model saved\n",
            "Batch 6/16 loss:tensor(7.0407)\n",
            "Batch 7/16 loss:tensor(7.0298)\n",
            "Batch 8/16 loss:tensor(7.0320)\n",
            "Batch 9/16 loss:tensor(7.0439)\n",
            "Batch 10/16 loss:tensor(7.0457)\n",
            "Batch 10/16 loss:tensor(7.0457)\n",
            "saving model...\n",
            "model saved\n",
            "Batch 11/16 loss:tensor(7.0553)\n",
            "Batch 12/16 loss:tensor(7.0618)\n",
            "Batch 13/16 loss:tensor(7.0686)\n",
            "Batch 14/16 loss:tensor(7.0676)\n",
            "Batch 15/16 loss:tensor(7.0686)\n",
            "Batch 15/16 loss:tensor(7.0686)\n",
            "saving model...\n",
            "model saved\n",
            "Epoch Loss:tensor(7.0686)\n",
            "Completed training...\n"
          ]
        }
      ]
    },
    {
      "cell_type": "markdown",
      "source": [
        "# Generate Captions"
      ],
      "metadata": {
        "id": "aCLP1vYWsh71"
      }
    },
    {
      "cell_type": "code",
      "source": [
        "%matplotlib inline\n",
        "\n",
        "def print_sample(hypotheses,references,imgs, alphas, k):\n",
        "    img_dim = 500 # 14*24\n",
        "    \n",
        "    hyp_sentence = []\n",
        "    for word_idx in hypotheses[k]:\n",
        "        hyp_sentence.append(vocab.idx2word[word_idx])\n",
        "    \n",
        "    ref_sentence = []\n",
        "    for word_idx in references[k]:\n",
        "        ref_sentence.append(vocab.idx2word[word_idx])\n",
        "        \n",
        "    img = imgs[0][k] \n",
        "\n",
        "    plt.imshow(img)\n",
        "    plt.axis('off')\n",
        "    plt.show()\n",
        "        \n",
        "    print('Hypotheses: '+\" \".join(hyp_sentence))\n",
        "    print('References: '+\" \".join(ref_sentence))"
      ],
      "metadata": {
        "id": "RnSgd4EwuK_i"
      },
      "execution_count": 23,
      "outputs": []
    },
    {
      "cell_type": "code",
      "source": [
        "references = [] \n",
        "test_references = []\n",
        "hypotheses = [] \n",
        "all_imgs = []\n",
        "all_alphas = []\n",
        "\n",
        "def validate():\n",
        "    print(\"Started validation...\")\n",
        "    decoder.eval()\n",
        "    encoder.eval()\n",
        "    \n",
        "    losses = loss_obj()\n",
        "\n",
        "    num_batches = len(test_loader)\n",
        "    # Batches\n",
        "    for i, (imgs, caps, caplens) in enumerate(tqdm(test_loader)):\n",
        "\n",
        "        imgs = torch.FloatTensor(imgs).to(device)\n",
        "        # caps = torch.FloatTensor(caps).to(device)\n",
        "        caps = caps.to(device)\n",
        "        caplens = torch.FloatTensor(caplens).to(device)\n",
        "\n",
        "        imgs_jpg = imgs.numpy() \n",
        "        imgs_jpg = np.swapaxes(np.swapaxes(imgs_jpg, 1, 3), 1, 2)\n",
        "        # Forward prop.\n",
        "        imgs = encoder(imgs)\n",
        "        scores, caps_sorted, decode_lengths, alphas = decoder(imgs, caps, caplens)\n",
        "        targets = caps_sorted[:, 1:]\n",
        "\n",
        "        # Remove timesteps that we didn't decode at, or are pads\n",
        "        scores_packed = pack_padded_sequence(scores, decode_lengths, batch_first=True)[0]\n",
        "        targets_packed = pack_padded_sequence(targets, decode_lengths, batch_first=True)[0]\n",
        "\n",
        "        # Calculate loss\n",
        "        loss = criterion(scores_packed, targets_packed)\n",
        "        loss += ((1. - alphas.sum(dim=1)) ** 2).mean()\n",
        "\n",
        "        losses.update(loss.item(), sum(decode_lengths))\n",
        "\n",
        "        # print(\"target shape\", targets.shape)\n",
        "         # References\n",
        "        for j in range(targets.shape[0]):\n",
        "            img_caps = targets[j].tolist() # validation dataset only has 1 unique caption per img\n",
        "            clean_cap = [w for w in img_caps if w not in [PAD, START, END]]  # remove pad, start, and end\n",
        "            img_captions = list(map(lambda c: clean_cap,img_caps))\n",
        "            test_references.append(clean_cap)\n",
        "            references.append(img_captions)\n",
        "            # all_imgs.append(imgs_jpg[j])\n",
        "            # all_imgs.append(imgs[j])\n",
        "        \n",
        "\n",
        "        # Hypotheses\n",
        "        _, preds = torch.max(scores, dim=2)\n",
        "        preds = preds.tolist()\n",
        "        temp_preds = list()\n",
        "        for j, p in enumerate(preds):\n",
        "            pred = p[:int(decode_lengths[j].item())]\n",
        "            pred = [w for w in pred if w not in [PAD, START, END]]\n",
        "            temp_preds.append(pred)  # remove pads, start, and end\n",
        "        preds = temp_preds\n",
        "        hypotheses.extend(preds)\n",
        "        \n",
        "        all_alphas.append(alphas)\n",
        "        # print(\"img jpg\", len(imgs_jpg))\n",
        "        all_imgs.append(imgs_jpg)            \n",
        "\n",
        "\n",
        "    bleu = corpus_bleu(references, hypotheses)\n",
        "    bleu_1 = corpus_bleu(references, hypotheses, weights=(1, 0, 0, 0))\n",
        "    bleu_2 = corpus_bleu(references, hypotheses, weights=(0, 1, 0, 0))\n",
        "    bleu_3 = corpus_bleu(references, hypotheses, weights=(0, 0, 1, 0))\n",
        "    bleu_4 = corpus_bleu(references, hypotheses, weights=(0, 0, 0, 1))\n",
        "\n",
        "    print(\"Validation loss: \"+str(losses.avg))\n",
        "    print(\"BLEU: \"+str(bleu))\n",
        "    print(\"BLEU-1: \"+str(bleu_1))\n",
        "    print(\"BLEU-2: \"+str(bleu_2))\n",
        "    print(\"BLEU-3: \"+str(bleu_3))\n",
        "    print(\"BLEU-4: \"+str(bleu_4))"
      ],
      "metadata": {
        "id": "9Jtl1mY3sgwd"
      },
      "execution_count": 20,
      "outputs": []
    },
    {
      "cell_type": "code",
      "source": [
        "validate()"
      ],
      "metadata": {
        "colab": {
          "base_uri": "https://localhost:8080/",
          "height": 431,
          "referenced_widgets": [
            "c5725aedb840492694fa4b2cc0fd0f7c",
            "ed5c4b0996b946ea820a8b3789ed732a",
            "31c97c54116848aa8ec1b4b2a9550be0",
            "ed7c016418c04d66b037af2e680ede24",
            "2cd7520f4a294e73b69b45e2ef57ffd0",
            "25f8f2a669864ea69b0d51cfbff39b8d",
            "bc56fecef9c045fb919dbb70a85d4bc6",
            "a74c9cbbee9c4b658722861016610b10",
            "a5a53b0b68f14232a0c42bab5c2a969b",
            "3089e07274f34f31b010b7157787f254",
            "19994817850940ccb40846922b174971"
          ]
        },
        "id": "Jwfqayiqd9CM",
        "outputId": "7f212c78-2fa2-4fa5-dab5-190d3dbaced6"
      },
      "execution_count": 21,
      "outputs": [
        {
          "output_type": "stream",
          "name": "stdout",
          "text": [
            "Started validation...\n"
          ]
        },
        {
          "output_type": "stream",
          "name": "stderr",
          "text": [
            "/usr/local/lib/python3.7/dist-packages/ipykernel_launcher.py:16: TqdmDeprecationWarning: This function will be removed in tqdm==5.0.0\n",
            "Please use `tqdm.notebook.tqdm` instead of `tqdm.tqdm_notebook`\n",
            "  app.launch_new_instance()\n"
          ]
        },
        {
          "output_type": "display_data",
          "data": {
            "text/plain": [
              "  0%|          | 0/4 [00:00<?, ?it/s]"
            ],
            "application/vnd.jupyter.widget-view+json": {
              "version_major": 2,
              "version_minor": 0,
              "model_id": "c5725aedb840492694fa4b2cc0fd0f7c"
            }
          },
          "metadata": {}
        },
        {
          "output_type": "stream",
          "name": "stdout",
          "text": [
            "Validation loss: tensor(6.8279)\n",
            "BLEU: 2.2822147006616005e-155\n",
            "BLEU-1: 0.18904109589041093\n",
            "BLEU-2: 0.00289855072463768\n",
            "BLEU-3: 2.2250738585072626e-308\n",
            "BLEU-4: 2.2250738585072626e-308\n"
          ]
        },
        {
          "output_type": "stream",
          "name": "stderr",
          "text": [
            "/usr/local/lib/python3.7/dist-packages/nltk/translate/bleu_score.py:552: UserWarning: \n",
            "The hypothesis contains 0 counts of 3-gram overlaps.\n",
            "Therefore the BLEU score evaluates to 0, independently of\n",
            "how many N-gram overlaps of lower order it contains.\n",
            "Consider using lower n-gram order or use SmoothingFunction()\n",
            "  warnings.warn(_msg)\n",
            "/usr/local/lib/python3.7/dist-packages/nltk/translate/bleu_score.py:552: UserWarning: \n",
            "The hypothesis contains 0 counts of 4-gram overlaps.\n",
            "Therefore the BLEU score evaluates to 0, independently of\n",
            "how many N-gram overlaps of lower order it contains.\n",
            "Consider using lower n-gram order or use SmoothingFunction()\n",
            "  warnings.warn(_msg)\n"
          ]
        }
      ]
    },
    {
      "cell_type": "code",
      "source": [
        "for i in range(len(all_imgs)):\n",
        "    print_sample(hypotheses, test_references, all_imgs, all_alphas, i)"
      ],
      "metadata": {
        "colab": {
          "base_uri": "https://localhost:8080/",
          "height": 1000
        },
        "id": "Rmh4qFwEeQwU",
        "outputId": "f62fcd8e-bd08-410e-f88f-8b68db6a857e"
      },
      "execution_count": 24,
      "outputs": [
        {
          "output_type": "stream",
          "name": "stderr",
          "text": [
            "Clipping input data to the valid range for imshow with RGB data ([0..1] for floats or [0..255] for integers).\n"
          ]
        },
        {
          "output_type": "display_data",
          "data": {
            "text/plain": [
              "<Figure size 432x288 with 1 Axes>"
            ],
            "image/png": "[encoded data removed]"
          },
          "metadata": {
            "needs_background": "light"
          }
        },
        {
          "output_type": "stream",
          "name": "stderr",
          "text": [
            "Clipping input data to the valid range for imshow with RGB data ([0..1] for floats or [0..255] for integers).\n"
          ]
        },
        {
          "output_type": "stream",
          "name": "stdout",
          "text": [
            "Hypotheses: a a the the the the the the the the the the the the the the the the the the the the the the the the . . . . the the\n",
            "References: a man stands on a rock pillar in the middle of an underground cave a large ray of light casts down on him from an opening in the earth above .\n"
          ]
        },
        {
          "output_type": "display_data",
          "data": {
            "text/plain": [
              "<Figure size 432x288 with 1 Axes>"
            ],
            "image/png": "[encoded data removed]"
          },
          "metadata": {
            "needs_background": "light"
          }
        },
        {
          "output_type": "stream",
          "name": "stderr",
          "text": [
            "Clipping input data to the valid range for imshow with RGB data ([0..1] for floats or [0..255] for integers).\n"
          ]
        },
        {
          "output_type": "stream",
          "name": "stdout",
          "text": [
            "Hypotheses: a a a a a the the the the the the the the the the the the the the the the the the\n",
            "References: a hiker with a blanket draped over their shoulders looks out over a bay surrounded by steep cliffs and mountain peaks .\n"
          ]
        },
        {
          "output_type": "display_data",
          "data": {
            "text/plain": [
              "<Figure size 432x288 with 1 Axes>"
            ],
            "image/png": "[encoded data removed]"
          },
          "metadata": {
            "needs_background": "light"
          }
        },
        {
          "output_type": "stream",
          "name": "stderr",
          "text": [
            "Clipping input data to the valid range for imshow with RGB data ([0..1] for floats or [0..255] for integers).\n"
          ]
        },
        {
          "output_type": "stream",
          "name": "stdout",
          "text": [
            "Hypotheses: a a a the the the the . . . . . . . . . . . . . .\n",
            "References: a badass camper stands in front of a tent ready to haul ass shop trees and take nature on .\n"
          ]
        },
        {
          "output_type": "display_data",
          "data": {
            "text/plain": [
              "<Figure size 432x288 with 1 Axes>"
            ],
            "image/png": "[encoded data removed]"
          },
          "metadata": {
            "needs_background": "light"
          }
        },
        {
          "output_type": "stream",
          "name": "stdout",
          "text": [
            "Hypotheses: a a a the the the the the the the the the the the the . . .\n",
            "References: footsteps leave imprints in a sand dune as a person takes a journey across the horizon .\n"
          ]
        }
      ]
    }
  ]
}
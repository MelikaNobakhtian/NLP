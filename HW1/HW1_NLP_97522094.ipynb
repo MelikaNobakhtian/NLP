{
  "nbformat": 4,
  "nbformat_minor": 0,
  "metadata": {
    "colab": {
      "name": "HW1_NLP_97522094.ipynb",
      "provenance": []
    },
    "kernelspec": {
      "name": "python3",
      "display_name": "Python 3"
    },
    "language_info": {
      "name": "python"
    }
  },
  "cells": [
    {
      "cell_type": "markdown",
      "source": [
        "# Q1"
      ],
      "metadata": {
        "id": "LAkANrd4qQfK"
      }
    },
    {
      "cell_type": "code",
      "source": [
        "import re\n",
        "\n",
        "\n",
        "def CheckPattern(text):\n",
        "    ## patterns\n",
        "    if re.search(\"Doctor(((\\s)([A-Z](\\.))+)|((\\s)[A-Z][a-z]*-[A-Z][a-z]*)|((\\s)[A-Z][a-z]*))+\", text):\n",
        "        return True\n",
        "    elif re.search(\"Dr(\\.)(((\\s)([A-Z](\\.))+)|((\\s)[A-Z][a-z]*-[A-Z][a-z]*)|((\\s)[A-Z][a-z]*))+\", text):\n",
        "        return True\n",
        "    elif re.search(\n",
        "            \"((([A-Z](\\.))+)|([A-Z][a-z]*)|([A-Z][a-z]*-[A-Z][a-z]*))(((\\s)([A-Z](\\.))+)|((\\s)[A-Z][a-z]*-[A-Z][a-z]*)|((\\s)[A-Z][a-z]*))+,? M\\.D\\.\",\n",
        "            text):\n",
        "        return True\n",
        "    else:\n",
        "        return False\n",
        "\n",
        "\n",
        "file_address = input(\"Enter File Address: \")\n",
        "file1 = open(file_address, 'r')\n",
        "Lines = file1.readlines()\n",
        "for line in Lines:\n",
        "    print(f\"Text: {line.strip()}\")\n",
        "    result = CheckPattern(line)\n",
        "    if result:\n",
        "        print(\"Matched Pattern Successfully! True\")\n",
        "    else:\n",
        "        print(\"Wrong Text! False\")\n",
        "    print(\"\")\n",
        "    print(\"////////////////////////\")\n",
        "    print(\"\")"
      ],
      "metadata": {
        "colab": {
          "base_uri": "https://localhost:8080/"
        },
        "id": "1_-0LAR4qUDb",
        "outputId": "8d125af3-dd6b-4f16-8c45-3bb150e1909e"
      },
      "execution_count": 31,
      "outputs": [
        {
          "output_type": "stream",
          "name": "stdout",
          "text": [
            "Enter File Address: doctor_names.txt\n",
            "Text: William R. Breakey M.D.\n",
            "Matched Pattern Successfully! True\n",
            "\n",
            "////////////////////////\n",
            "\n",
            "Text: Pamela J. Fischer M.D.\n",
            "Matched Pattern Successfully! True\n",
            "\n",
            "////////////////////////\n",
            "\n",
            "Text: Leighton E. Cluff M.D.\n",
            "Matched Pattern Successfully! True\n",
            "\n",
            "////////////////////////\n",
            "\n",
            "Text: James S. Thompson, M.D.\n",
            "Matched Pattern Successfully! True\n",
            "\n",
            "////////////////////////\n",
            "\n",
            "Text: C.M. Franklin, M.D.\n",
            "Matched Pattern Successfully! True\n",
            "\n",
            "////////////////////////\n",
            "\n",
            "Text: Atul Gawande, M.D.\n",
            "Matched Pattern Successfully! True\n",
            "\n",
            "////////////////////////\n",
            "\n",
            "Text: Dr. Talcott\n",
            "Matched Pattern Successfully! True\n",
            "\n",
            "////////////////////////\n",
            "\n",
            "Text: Dr. J. Gordon Melton\n",
            "Matched Pattern Successfully! True\n",
            "\n",
            "////////////////////////\n",
            "\n",
            "Text: Dr. Etienne-Emile Baulieu\n",
            "Matched Pattern Successfully! True\n",
            "\n",
            "////////////////////////\n",
            "\n",
            "Text: Dr. Karl Thomae\n",
            "Matched Pattern Successfully! True\n",
            "\n",
            "////////////////////////\n",
            "\n",
            "Text: Dr. Alan D. Lourie\n",
            "Matched Pattern Successfully! True\n",
            "\n",
            "////////////////////////\n",
            "\n",
            "Text: Dr. Xiaotong Fei\n",
            "Matched Pattern Successfully! True\n",
            "\n",
            "////////////////////////\n",
            "\n",
            "Text: Doctor Dre\n",
            "Matched Pattern Successfully! True\n",
            "\n",
            "////////////////////////\n",
            "\n",
            "Text: Doctor Dolittle\n",
            "Matched Pattern Successfully! True\n",
            "\n",
            "////////////////////////\n",
            "\n",
            "Text: Doctor William Archibald Spooner\n",
            "Matched Pattern Successfully! True\n",
            "\n",
            "////////////////////////\n",
            "\n"
          ]
        }
      ]
    },
    {
      "cell_type": "markdown",
      "source": [
        "# Q2"
      ],
      "metadata": {
        "id": "lbJE2_ncp9no"
      }
    },
    {
      "cell_type": "code",
      "source": [
        "import nltk\n",
        "from nltk.tokenize import word_tokenize, sent_tokenize\n",
        "nltk.download('punkt')\n",
        "\n",
        "print(\"**** Use NLTK to See Result of word tokenize abd sent tokenize on given file ****\")\n",
        "print(\"\")\n",
        "file_address = input(\"Enter File Address: \")\n",
        "file1 = open(file_address, 'r')\n",
        "print(\"Main File Text:\")\n",
        "text = str(file1.read())\n",
        "print(text)\n",
        "print(\" \")\n",
        "words = word_tokenize(text)\n",
        "print(\"***** Tokenized words with word_tokenize *****\")\n",
        "for word in words:\n",
        "    print(word)\n",
        "print(\"\")\n",
        "print(\"****** Sentences with sent_tokenize ******\")\n",
        "sents = sent_tokenize(text)\n",
        "for sent in sents:\n",
        "    print(sent)\n",
        "    print(\"///\")"
      ],
      "metadata": {
        "colab": {
          "base_uri": "https://localhost:8080/"
        },
        "id": "iJP57AKQp__K",
        "outputId": "1217720d-515c-4db0-ec73-c8e1e335fd86"
      },
      "execution_count": 30,
      "outputs": [
        {
          "output_type": "stream",
          "name": "stdout",
          "text": [
            "[nltk_data] Downloading package punkt to /root/nltk_data...\n",
            "[nltk_data]   Unzipping tokenizers/punkt.zip.\n",
            "**** Use NLTK to See Result of word tokenize abd sent tokenize on given file ****\n",
            "\n",
            "Enter File Address: comp.txt\n",
            "Main File Text:\n",
            "Throughout this book you will see sections what they wanted neA't, villagers said they\n",
            "entitled \"Computers in the Real World.\" These wanted access to the Internet! First, they\n",
            "sections describe compelling uses for comput  wanted to learn the prices before taking their\n",
            "ers outside of their typical functions in office crops to the nearest market, which is 35 kilo \n",
            "automation and data processing. The goal of meters away. They could also learn about the\n",
            "these sections is to illustrate the diversity of market abroad to make better decisions on\n",
            "uses for information technology. what crops to grow and to increase their bar \n",
            "gaining power when it was time to sell them.\n",
            "\n",
            " \n",
            "***** Tokenized words with word_tokenize *****\n",
            "Throughout\n",
            "this\n",
            "book\n",
            "you\n",
            "will\n",
            "see\n",
            "sections\n",
            "what\n",
            "they\n",
            "wanted\n",
            "neA't\n",
            ",\n",
            "villagers\n",
            "said\n",
            "they\n",
            "entitled\n",
            "``\n",
            "Computers\n",
            "in\n",
            "the\n",
            "Real\n",
            "World\n",
            ".\n",
            "''\n",
            "These\n",
            "wanted\n",
            "access\n",
            "to\n",
            "the\n",
            "Internet\n",
            "!\n",
            "First\n",
            ",\n",
            "they\n",
            "sections\n",
            "describe\n",
            "compelling\n",
            "uses\n",
            "for\n",
            "comput\n",
            "wanted\n",
            "to\n",
            "learn\n",
            "the\n",
            "prices\n",
            "before\n",
            "taking\n",
            "their\n",
            "ers\n",
            "outside\n",
            "of\n",
            "their\n",
            "typical\n",
            "functions\n",
            "in\n",
            "office\n",
            "crops\n",
            "to\n",
            "the\n",
            "nearest\n",
            "market\n",
            ",\n",
            "which\n",
            "is\n",
            "35\n",
            "kilo\n",
            "automation\n",
            "and\n",
            "data\n",
            "processing\n",
            ".\n",
            "The\n",
            "goal\n",
            "of\n",
            "meters\n",
            "away\n",
            ".\n",
            "They\n",
            "could\n",
            "also\n",
            "learn\n",
            "about\n",
            "the\n",
            "these\n",
            "sections\n",
            "is\n",
            "to\n",
            "illustrate\n",
            "the\n",
            "diversity\n",
            "of\n",
            "market\n",
            "abroad\n",
            "to\n",
            "make\n",
            "better\n",
            "decisions\n",
            "on\n",
            "uses\n",
            "for\n",
            "information\n",
            "technology\n",
            ".\n",
            "what\n",
            "crops\n",
            "to\n",
            "grow\n",
            "and\n",
            "to\n",
            "increase\n",
            "their\n",
            "bar\n",
            "gaining\n",
            "power\n",
            "when\n",
            "it\n",
            "was\n",
            "time\n",
            "to\n",
            "sell\n",
            "them\n",
            ".\n",
            "\n",
            "****** Sentences with sent_tokenize ******\n",
            "Throughout this book you will see sections what they wanted neA't, villagers said they\n",
            "entitled \"Computers in the Real World.\"\n",
            "///\n",
            "These wanted access to the Internet!\n",
            "///\n",
            "First, they\n",
            "sections describe compelling uses for comput  wanted to learn the prices before taking their\n",
            "ers outside of their typical functions in office crops to the nearest market, which is 35 kilo \n",
            "automation and data processing.\n",
            "///\n",
            "The goal of meters away.\n",
            "///\n",
            "They could also learn about the\n",
            "these sections is to illustrate the diversity of market abroad to make better decisions on\n",
            "uses for information technology.\n",
            "///\n",
            "what crops to grow and to increase their bar \n",
            "gaining power when it was time to sell them.\n",
            "///\n"
          ]
        }
      ]
    },
    {
      "cell_type": "markdown",
      "source": [
        "# Q3"
      ],
      "metadata": {
        "id": "jUtWpcIdpuzR"
      }
    },
    {
      "cell_type": "code",
      "source": [
        "import re\n",
        "import nltk\n",
        "from nltk.corpus import words\n",
        "nltk.download('words')\n",
        "\n",
        "word = input(\"Word should be normalized:\")\n",
        "char_repeated = re.compile(r'(\\w*)(\\w)\\2(\\w*)')\n",
        "\n",
        "while not word in words.words():\n",
        "    normal_word = char_repeated.sub(r'\\1\\2\\3', word)\n",
        "    if normal_word == word:\n",
        "      break\n",
        "    word = normal_word\n",
        "\n",
        "print(f'normal word: {word}')"
      ],
      "metadata": {
        "colab": {
          "base_uri": "https://localhost:8080/"
        },
        "id": "--lUpM4wpxTK",
        "outputId": "70e1c9b8-a7cf-49bd-80ea-7882a7749dc1"
      },
      "execution_count": 29,
      "outputs": [
        {
          "output_type": "stream",
          "name": "stdout",
          "text": [
            "[nltk_data] Downloading package words to /root/nltk_data...\n",
            "[nltk_data]   Unzipping corpora/words.zip.\n",
            "Word should be normalized:looooove\n",
            "normal word: love\n"
          ]
        }
      ]
    },
    {
      "cell_type": "markdown",
      "source": [
        "# Q4"
      ],
      "metadata": {
        "id": "w_SiEDIrpj8l"
      }
    },
    {
      "cell_type": "code",
      "source": [
        "from nltk.tokenize import TreebankWordTokenizer, RegexpTokenizer, WhitespaceTokenizer, WordPunctTokenizer\n",
        "import re\n",
        "\n",
        "english_example_Address = \"AlbertEinstein.txt\"\n",
        "file1 = open(english_example_Address, 'r')\n",
        "english_example = str(file1.read())\n",
        "\n",
        "persian_example_Address = \"Shahnameh.txt\"\n",
        "file1 = open(persian_example_Address, 'r')\n",
        "persian_example = str(file1.read())\n",
        "\n",
        "english_short_text_Address = \"ShortSampleEnglish.txt\"\n",
        "file1 = open(english_short_text_Address, 'r')\n",
        "english_short = str(file1.read())\n",
        "\n",
        "persian_short_text_Address = \"ShortSamplePersian.txt\"\n",
        "file1 = open(persian_short_text_Address, 'r')\n",
        "persian_short = str(file1.read())\n",
        "\n",
        "## Treebank Word Tokenizer\n",
        "\n",
        "tt = TreebankWordTokenizer().tokenize(english_example)\n",
        "print(f'** Token count in AlbertEinstein.txt with Treebankwordtokenizer : {len(tt)}')\n",
        "print(f'** Token types in AlbertEinstein.txt with Treebankwordtokenizer : {\", \".join(list(set(tt)))}')\n",
        "print(\"\")\n",
        "\n",
        "tt = TreebankWordTokenizer().tokenize(persian_example)\n",
        "print(f'** Token count in Shahnameh.txt with Treebankwordtokenizer : {len(tt)}')\n",
        "print(f'** Token types in Shahnameh.txt with Treebankwordtokenizer : {\", \".join(list(set(tt)))}')\n",
        "print(\"\")\n",
        "\n",
        "tt = TreebankWordTokenizer().tokenize(english_short)\n",
        "print(f'** Token count in ShortSampleEnglish.txt with Treebankwordtokenizer : {len(tt)}')\n",
        "print(f'** Token types in ShortSampleEnglish.txt with Treebankwordtokenizer : {\", \".join(list(set(tt)))}')\n",
        "print(\"\")\n",
        "\n",
        "tt = TreebankWordTokenizer().tokenize(persian_short)\n",
        "print(f'** Token count in ShortSamplePersian.txt with Treebankwordtokenizer : {len(tt)}')\n",
        "print(f'** Token types in ShortSamplePersian.txt with Treebankwordtokenizer : {\", \".join(list(set(tt)))}')\n",
        "print(\"\")\n",
        "\n",
        "## RegexpTokenizer\n",
        "regexp = RegexpTokenizer('[0-9]+').tokenize(english_example)\n",
        "print(f'AlbertEinstein.txt numbers with Regexp : {\", \".join(regexp)}')\n",
        "print(\"\")\n",
        "\n",
        "regexp = RegexpTokenizer('\\w+').tokenize(english_short)\n",
        "print(f'ShortSampleEnglish.txt tokens with Regexp : {\", \".join(regexp)}')\n",
        "print(\"\")\n",
        "\n",
        "regexp = RegexpTokenizer('[a-zA-Z]+').tokenize(english_short)\n",
        "print(f'ShortSampleEnglish.txt words with Regexp : {\", \".join(regexp)}')\n",
        "print(\"\")\n",
        "\n",
        "regexp = RegexpTokenizer('\\w+').tokenize(persian_short)\n",
        "print(f'ShortSamplePersian.txt tokens with Regexp : {\", \".join(regexp)}')\n",
        "print(\"\")\n",
        "\n",
        "\n",
        "## WhiteSpace Tokenizer\n",
        "ws = WhitespaceTokenizer().tokenize(english_short)\n",
        "print(f'ShortSampleEnglish.txt words with WhiteSpaceTokenizer : {\", \".join(ws)}')\n",
        "print(\"\")\n",
        "\n",
        "tokenizer = RegexpTokenizer('\\s+', gaps=True).tokenize(english_short)\n",
        "print(f'ShortSampleEnglish.txt words with RegexpTokenizer like WhiteSpaceTokenizer : {\", \".join(tokenizer)}')\n",
        "print(\"\")\n",
        "\n",
        "## WordPunctTokenizer\n",
        "wpunct = WordPunctTokenizer().tokenize(english_short)\n",
        "print(f'ShortSampleEnglish.txt words with WordPunctTokenizer : {\", \".join(wpunct)}')\n",
        "print(\"\")"
      ],
      "metadata": {
        "colab": {
          "base_uri": "https://localhost:8080/"
        },
        "id": "PymXOcegpmgx",
        "outputId": "b3389806-0dca-46aa-82af-9098741306ab"
      },
      "execution_count": 27,
      "outputs": [
        {
          "output_type": "stream",
          "name": "stdout",
          "text": [
            "** Token count in AlbertEinstein.txt with Treebankwordtokenizer : 252\n",
            "** Token types in AlbertEinstein.txt with Treebankwordtokenizer : moved, ., assistant, March, Patent, similar, Professor, albert, Ulm, as, began, technical, on, 1905, work, 1940, Polytechnic, trained, until, Later, when, Federal, at, Director, citizenship, Munich, they, Office, Swiss, 1896, position, mathematics., During, Physical, obtained, appointed, entered, was, 1879., schooling, in, education, citizen, renounced, reasons, Kaiser, he, remarkable, diploma, teaching, his, returning, s, following, retired, fill, later, 1933, Aarau, ’, political, to, continued, born, and, Berlin, the, United, unable, spare, produced, of, Einstein, weeks, Zurich, Institute, stay, where, Princeton*., Gymnasium., teacher, 1908, Berne., German, take, Albert, a, States, Italy, family, remained, post, Six, from, Germany, became, doctor, Wilhelm, Switzerland, ,, degree., University, for, acquired, be, 1945, time, find, Extraordinary, 1901, He, gained, Württemberg, emigrated, year, Privatdozent, much, America, 1909, Berlin., physics, Physics, 1911, Prague, 1914, Theoretical, Luitpold, School, accepted, In, post., Office., 14\n",
            "\n",
            "** Token count in Shahnameh.txt with Treebankwordtokenizer : 2207\n",
            "** Token types in Shahnameh.txt with Treebankwordtokenizer : خورشيد, گرفتند, پر, کرانشندانم, ببالد, روز, نداند, يک, هم, سپردن, بشنوي, نپويد, هرگز, آوريم, ناگفته, رمز, کهان, بازگوي, بن, ايرا, چه, رهاند, بندهي, وصف, نبي, زنده, نگاه, نيکي, يادگار, دارم, جوانيشيک, کاين, گر, فکن, بلا, نتابي, دام, آرام, نور, نيز, جوينده, خاک, غم, ايا, ات, نرم, روان, خروس, بداني, پيشدرياي, برد, درد, شوي, ببخشيد, بيت, بجنبيد, گرايد, خطا, گشاده, يکايک, به, جايگه, داري, مپيچ, شعر, دهقان, گفتي, بردم, شهنشاه, سر, زو, برآيد, نوان, بلندي, توانا, بينندگان, راغ, سياه, تري, جانت, کان, بيند, فرمان, نيوشنده, بباليد, آري, کردگار, اندرو, سخنگاه, مرده, برآورده, سرآمد, سرو, دلشگردد, نامدي, سهي, من, آمد, گويي, يار, فروغ, شمار, بگذاشتند, بياراست, آتشبسوزد, گرفتست, پيشتو, با, وزويت, چرخ, سپار, فراز, پساز, چون, برنگذرد, نهيب, يکي, هر, خويشريش, شيرين, ميل, بدينسان, نزد, بپيمايدا, امر, پيکرست, کيوان, ماه, دانشنيابد, خواب, تواني, ازو, پشت, همنورد, نيارم, نبشته, رسولان, مايهي, نيکدل, بيد, اندر, دشت, کسز, خداوند, گويم, پيش, ابوالقاسم, پهلوان, تاريک, معني, مرکزي, بر, قوي, حشر, اين, دوان, جنگ, نگارندهي, ببند, گرت, گنجم, هستيشبايد, رهنماي, سالخورد, رها, ميانچي, گوهران, نبيني, زدن, بخردي, غرقه, گرفتار, خويشآوريد, جانست, پيوسته, بندهاند, ستايندهي, مرا, نهنگان, دلفروز, جويد, آنکسکه, عروس, کساز, دلير, دريا, دادگر, دشمنش, جواني, نيازت, گوهر, فسون, کشتي, همرهان, چنان, مردم, بردن, جان, سرش, نامد, فر, راستان, بعد, يافته, همچو, شاهان, رخشنده, را, بهر, دانشهمه, اوست, نداري, مرد, نگر, نيابد, آمدند, چنينست, دهم, برايشان, بپردخت, هرگونه, برترست, پژوهندهي, خسروان, کشيده, بسيچ, طبع, قنوج, نتابيد, سي, نامور, باستان, لاژورد, اندکي, پند, بپوي, بگفتند, خواننده, ببايدت, دراز, جفت, شادماني, پرده, خستو, مرگ, مرنجان, بيابي, دانشي, بيرنج, روشنايي, کزين, کن, کيي, ساختن, نباشد, ژنده, گرد, روشنائي, رسول, شد, نيکو, گفتهاند, توران, کهن, پاي, خوار, ازويست, هفت, بسان, پرورد, بترسيدم, گردنفراز, مي, بلند, پيششبه, بالاي, لوا, ساخته, شير, گونه, ياد, بينم, برگشت, آب, نهاد, منست, بدان, عثمان, بيدار, شود, پذيرد, نمايندهي, پهلوي, خواهي, رسيدم, نگهبان, انجمن, آوري, چنين, ازوي, سيب, وگوش, رستني, حکيما, برآمد, ستاره, باريک, زيب, گم, مهر, آتشي, زبان, بپرسيدم, نهي, پيروزه, کي, بيشتر, وحي, جنبشدميد, همانا, الهي, تابان, نگه, معين, ستودن, ببيني, نامهي, آبها, کميست, رست, عليم, برآوردهاند, تنش, دفتر, بيروزگار, جوانمرد, پيل, چار, گنبد, بستهي, ايدون, سپهبد, گفتار, جانشبغض, دو, ازان, جاي, ندارد, پسز, آواي, کند, کيست, بتول, خردمند, آيد, نسپري, هفتاد, دانشسزاست, فزوني, توانم, ره, بسي, نغنوي, شبانگاه, بخت, سوي, زين, عليست, بفرسايدش, وزان, گزند, ديوانه, بندها, بايد, تا, چهار, خورد, نخل, ماهست, ترگ, خيره, کزيشان, اندرخورد, تيزگرد, آفتابي, چند, ناپديد, پاس, ناگاه, چهارم, فرمانشکردن, تنت, آفرين, وصي, سپاهشدو, سيم, دريغ, علمم, چمن, شاد, درنگم, پسچو, دگرگونه, راست, خسروي, گسسته, بگذرم, دسترس, کنون, ز, سويي, انديشهي, مهربان, تيزرو, شنود, سرانشان, زمين, نه, ببين, مدار, نيابم, اختر, دارد, مه, برو, تويي, دلت, بود, داستانها, بيار, بودت, جويا, پيشاندرش, جايگاه, مگر, يادگاري, همي, آفريننده, شهرياري, پهلوانيت, يکدگر, شنيدم, پيدا, بنده, گرميشپسخشکي, بياراسته, روم, شدن, سرانجام, راد, ستايم, هوش, گويا, هستي, آنگاه, سراي, همين, بنمود, گمان, يکسو, خواهد, کشان, خاشاک, شمعي, زرد, زار, شهريار, روشنا, بهرهاي, زير, زويست, سخنها, غميست, زمانه, راه, کز, بمانم, پير, بهتر, نخفته, پيشاو, چشم, شو, کشته, آورد, کمربند, زخاور, موج, بسيار, کار, برنا, آرم, که, دانا, دان, جست, رده, آموختن, پيغمبرت, گوش, ازويي, بهانه, ديدارش, آفتاب, فطرت, سرخست, آنکه, بدي, بداد, نااميد, سردي, ازيشان, شرم, روش, ديدار, نياري, زندگي, برشده, رفتهاند, جهان, داستان, يا, کليد, سه, دود, چراغست, برفت, عمر, دستگير, محمد, سرير, پيششيکايک, بخردان, نهادش, ببايد, اگر, تابنده, بازي, بگذرد, برافراخته, جوي, نمايشکند, يابي, خفته, دل, بوبکر, توان, برين, نشان, لرز, ديبا, گشت, ابرده, خواني, وفي, نافه, گنجد, کسبگوي, لب, تيرگيها, گزين, نام, زر, بسته, مهان, است, بخفتم, زارتر, يزدان, بيگمان, خويشبيگانه, رنج, باريکتر, نزديک, برافروخت, ورا, پايهاي, آلت, کبود, از, پاک, دانيم, تمام, بکوشم, فروزنده, دلگشاي, کردار, بيچشم, رانم, دست, چنو, تندباد, جنبنده, دد, ما, کوه, کس, فرخ, نو, نشاني, دستور, وفادار, وگر, ياقوت, گاه, تو, انگبين, کريمي, دوست, صحابان, جز, ازين, برگزيند, علي, ماء, ستود, خور, باختر, سزاوار, شده, خود, فراوان, آتشبه, رواست, نامه, اوي, هنر, نزديکتر, تاج, کاري, آن, پيشآورم, چو, شادمان, روزي, بادبانها, نخستين, شدي, بيننده, گناه, سخن, دهد, کافرينشچه, نيکنامان, نيک, کسخريدار, کسي, بست, ترا, مايلست, روشن, منم, نوبهنو, آتشفرود, ايچ, مستمند, راي, مدان, خاور, داد, گردگاه, دانندگان, رستگاري, کسنيست, آغاز, خويشآورم, دانشدل, گردد, سخته, برومند, کشوري, برانگيخته, مهتري, کژي, پيروزبخت, تنزيل, بوي, خوب, اندرون, پسبگو, جوان, مرزباني, شبي, نکرد, دگر, برگرايد, ژرفي, گفته, هند, بالا, بپرسيدشان, سنجد, پي, گفتن, بياورد, ستارست, تابناک, عفو, پرستنده, کرد, بگذري, ستايد, چندين, در, درمان, نهاده, ديد, سنج, چهرهي, سپنجي, گشتي, سپهر, چندان, پسين, اختري, دادن, کزو, گشتاده, افکند, جوانيشرا, فسانه, باشد, بپرسيدمي, نيست, شهر, بندگي, زندهاند, همان, ميان, پديد, تباهي, فرجام, ست, آفرينشخرد, بگزايدش, حيدرم, کدخداي, شب, ديگر, گوشم, تيره, بيامد, روانم, پيلان, پيوندگان, دانشو, دشمن, کردم, شاخ, شمع, چشمشهمان, بدانست, سراسر, کاربند, ناهيد, جوانيت, دايم, بپروردهاند, برگردي, ولي, شادان, دروغ, مردمي, کساو, کشيد, اهل, نيرويي, گفت, کلاه, باشي, سرمايهي, پنهان, توانايي, پيکار, دلست, نداني, باغ, پهن, روزگار, فزود, نهان, راستتر, چراغ, ناچيز, فلکها, برخورد, نخواهد, نامدار, برسان, گزيند, گيا, بد, ده, بديد, ارجمند, برز, برگشته, خرد, هست, باد, بزرگ, داند, آفريد, دين, قول, گه, دميد, بخششو, بيفزاي, گير, نبد, بيکار, غرق, بيپدر, مغز, موبدي, عشق, شناس, گهرها, کيان, بگذاشتم, راز, پيغمبرست, خداي, بازدارد, بنگري, بيشمار, بدين, گردن, درخت, هميشه, جاه, گيتي, تن, دور, داشتم, نمود, اي, سزيد, سايه, چيزي, هفته, پرآواز, نخواهي, ايزد, درست, شگفتي, شوم, خويشتن, عاج, ستايشخرد, کو, چيز, نهفته, ماند, يارد, بهار, گواهي, حکيم, کام, تازه, بيرون, لرزان, جنبشآرام, کردهي, نژاد, چپشهفتصد, هشيوار, داشتند, نيامد, رنگ, ايران, خوبي, نامداران, جويندگان, او, تيمار, آبروي, شهرم, کرانه, پذيرندهي, گردش, برتر, اسلام, زادم, خوي, سخنهاي, پوست, زمان, رسد, چشمهي, پراگنده, باز, سند, بنشيند, انديشه, مر, خواند, شاه, داني, سپاه, گذشته, بدو, روي, ابا, تخت, و, همه, نوروز, آشکار, نخست, آرد, تنگ, نژند, گيرد, ديدمي, سود, گردان, نشسته, بدانستم, تاختن\n",
            "\n",
            "** Token count in ShortSampleEnglish.txt with Treebankwordtokenizer : 19\n",
            "** Token types in ShortSampleEnglish.txt with Treebankwordtokenizer : 're, ., It, well., Hello, text.This, !, a, our, 1, assignment, is, st, sample, Hope, short, doing, you\n",
            "\n",
            "** Token count in ShortSamplePersian.txt with Treebankwordtokenizer : 16\n",
            "** Token types in ShortSamplePersian.txt with Treebankwordtokenizer : ما, ۱, ., خوب, سلام, متن, این, !, امیدوارم, یک, باشید., کوتاه, است.این, است, نمونه, تمرین\n",
            "\n",
            "AlbertEinstein.txt numbers with Regexp : 14, 1879, 1896, 1901, 1905, 1908, 1909, 1911, 1914, 1914, 1933, 1940, 1945\n",
            "\n",
            "ShortSampleEnglish.txt tokens with Regexp : Hello, Hope, you, re, doing, well, It, is, a, sample, short, text, This, is, our, 1, st, assignment\n",
            "\n",
            "ShortSampleEnglish.txt words with Regexp : Hello, Hope, you, re, doing, well, It, is, a, sample, short, text, This, is, our, st, assignment\n",
            "\n",
            "ShortSamplePersian.txt tokens with Regexp : سلام, امیدوارم, خوب, باشید, این, یک, متن, کوتاه, نمونه, است, این, تمرین, ۱, ما, است\n",
            "\n",
            "ShortSampleEnglish.txt words with WhiteSpaceTokenizer : Hello!, Hope, you're, doing, well., It, is, a, sample, short, text.This, is, our, 1, st, assignment.\n",
            "\n",
            "ShortSampleEnglish.txt words with RegexpTokenizer like WhiteSpaceTokenizer : Hello!, Hope, you're, doing, well., It, is, a, sample, short, text.This, is, our, 1, st, assignment.\n",
            "\n",
            "ShortSampleEnglish.txt words with WordPunctTokenizer : Hello, !, Hope, you, ', re, doing, well, ., It, is, a, sample, short, text, ., This, is, our, 1, st, assignment, .\n",
            "\n"
          ]
        }
      ]
    },
    {
      "cell_type": "markdown",
      "source": [
        "# Q5"
      ],
      "metadata": {
        "id": "ClFEI7wFpMSC"
      }
    },
    {
      "cell_type": "code",
      "source": [
        "from nltk.tokenize import TreebankWordTokenizer\n",
        "from nltk.stem import *\n",
        "nltk.download('wordnet')\n",
        "\n",
        "english_example_Address = \"AlbertEinstein.txt\"\n",
        "file1 = open(english_example_Address, 'r')\n",
        "english_example = str(file1.read())\n",
        "\n",
        "persian_example_Address = \"Shahnameh.txt\"\n",
        "file1 = open(persian_example_Address, 'r')\n",
        "persian_example = str(file1.read())\n",
        "\n",
        "english_short_text_Address = \"ShortSampleEnglish.txt\"\n",
        "file1 = open(english_short_text_Address, 'r')\n",
        "english_short = str(file1.read())\n",
        "\n",
        "persian_short_text_Address = \"ShortSamplePersian.txt\"\n",
        "file1 = open(persian_short_text_Address, 'r')\n",
        "persian_short = str(file1.read())\n",
        "\n",
        "tokens = TreebankWordTokenizer().tokenize(english_example)\n",
        "idx = [2, 10, 18, 19, 21, 22, 42]\n",
        "\n",
        "porter = PorterStemmer()\n",
        "choosen_tokens = [tokens[id]for id in idx]\n",
        "print(\"*** Original Words ***:\")\n",
        "print(', '.join(choosen_tokens))\n",
        "print('')\n",
        "\n",
        "## Porter\n",
        "porter_result = [porter.stem(tk) for tk in choosen_tokens]\n",
        "print(\"** Stemmed with PorterStemmer **:\")\n",
        "print(', '.join(porter_result))\n",
        "print(\"\")\n",
        "\n",
        "## Lancaster\n",
        "lancaster = LancasterStemmer()\n",
        "lancaster_result = [lancaster.stem(tk) for tk in choosen_tokens]\n",
        "print(\"** Stemmed with LancasterStemmer **:\")\n",
        "print(', '.join(lancaster_result))\n",
        "print(\"\")\n",
        "\n",
        "## Lemmatize\n",
        "words = ['waves', 'fishing', 'rocks', 'was', 'corpora', 'better', 'ate', 'broken']\n",
        "lemmatizer = WordNetLemmatizer()\n",
        "lemm_result = [lemmatizer.lemmatize(w) for w in words]\n",
        "print(\"*** Lemmatize given Words ***:\")\n",
        "print(', '.join(lemm_result))\n",
        "print(\"\")\n",
        "print(\"*** Lemmatize with Type ***:\")\n",
        "print(f'word : fishing, lemm : {lemmatizer.lemmatize(\"fishing\", pos=\"v\")}')\n",
        "print(f'word : was, lemm : {lemmatizer.lemmatize(\"was\", pos=\"v\")}')\n",
        "print(f'word : better, lemm : {lemmatizer.lemmatize(\"better\", pos=\"a\")}')\n",
        "print(f'word : ate, lemm : {lemmatizer.lemmatize(\"ate\", pos=\"v\")}')\n",
        "print(f'word : broken, lemm : {lemmatizer.lemmatize(\"broken\", pos=\"v\")}')\n"
      ],
      "metadata": {
        "colab": {
          "base_uri": "https://localhost:8080/"
        },
        "id": "nv-Xu6qbpR-q",
        "outputId": "42ee3b46-5785-4841-eb06-d01502e95a9d"
      },
      "execution_count": 26,
      "outputs": [
        {
          "output_type": "stream",
          "name": "stdout",
          "text": [
            "[nltk_data] Downloading package wordnet to /root/nltk_data...\n",
            "[nltk_data]   Unzipping corpora/wordnet.zip.\n",
            "*** Original Words ***:\n",
            "was, Germany, weeks, later, family, moved, Italy\n",
            "\n",
            "** Stemmed with PorterStemmer **:\n",
            "wa, germani, week, later, famili, move, itali\n",
            "\n",
            "** Stemmed with LancasterStemmer **:\n",
            "was, germany, week, lat, famy, mov, ita\n",
            "\n",
            "*** Lemmatize given Words ***:\n",
            "wave, fishing, rock, wa, corpus, better, ate, broken\n",
            "\n",
            "*** Lemmatize with Type ***:\n",
            "word : fishing, lemm : fish\n",
            "word : was, lemm : be\n",
            "word : better, lemm : good\n",
            "word : ate, lemm : eat\n",
            "word : broken, lemm : break\n"
          ]
        }
      ]
    },
    {
      "cell_type": "markdown",
      "source": [
        "# Q6"
      ],
      "metadata": {
        "id": "wM9986shoZt6"
      }
    },
    {
      "cell_type": "code",
      "source": [
        "from nltk.tokenize import WordPunctTokenizer, WhitespaceTokenizer\n",
        "from nltk.corpus import stopwords\n",
        "from nltk.stem import *\n",
        "from collections import Counter\n",
        "from wordcloud import WordCloud\n",
        "import matplotlib.pyplot as plt\n",
        "import re\n",
        "import csv\n",
        "\n",
        "tweets = []\n",
        "unchanged_tweets = []\n",
        "with open(\"tweets.csv\", 'r') as file:\n",
        "    csvreader = csv.reader(file)\n",
        "    for row in csvreader:\n",
        "        tweets.append(row)\n",
        "        unchanged_tweets.append(row)\n",
        "\n",
        "## print original tweets\n",
        "print('Original Tweets:')\n",
        "print(tweets[120])\n",
        "print('//////')\n",
        "print(tweets[43073])\n",
        "print('//////')\n",
        "print(tweets[10113])"
      ],
      "metadata": {
        "colab": {
          "base_uri": "https://localhost:8080/"
        },
        "id": "G7TIyq8tY8rv",
        "outputId": "8f4a7259-2092-4058-94f6-41f3949df4ff"
      },
      "execution_count": 9,
      "outputs": [
        {
          "output_type": "stream",
          "name": "stdout",
          "text": [
            "Original Tweets:\n",
            "[\"RT @Claire_FOX5: #BREAKING:  @GaSecofState's office confirms Floyd County has found 2,600 ballots during audit.  Says Sec. Raffensperger waâ€¦\"]\n",
            "//////\n",
            "['Really disgusting that the failing New York Times allows dishonest writers to totally fabricate stories.']\n",
            "//////\n",
            "['What an INCREDIBLE opening by @JesseBWatters. I will put it up later for everyone to see!']\n"
          ]
        }
      ]
    },
    {
      "cell_type": "code",
      "source": [
        "# Step 1:\n",
        "#   Remove Duplicate Spaces between tweet's words\n",
        "for i, tweet in enumerate(tweets):\n",
        "    new_tweet = re.sub(r'\\s+', ' ', str(tweet))\n",
        "    tweets[i] = new_tweet\n",
        "\n",
        "\n",
        "print(\"Step 1: Remove Duplicate Spaces between tweet's words \")\n",
        "print(tweets[120])\n",
        "print('//////')\n",
        "print(tweets[43073])\n",
        "print('//////')\n",
        "print(tweets[10113])"
      ],
      "metadata": {
        "colab": {
          "base_uri": "https://localhost:8080/"
        },
        "id": "Uk4rZVQpZ8Nn",
        "outputId": "a1a43273-a3a0-4b1c-a2c6-a65734374d00"
      },
      "execution_count": 10,
      "outputs": [
        {
          "output_type": "stream",
          "name": "stdout",
          "text": [
            "Step 1: Remove Duplicate Spaces between tweet's words \n",
            "[\"RT @Claire_FOX5: #BREAKING: @GaSecofState's office confirms Floyd County has found 2,600 ballots during audit. Says Sec. Raffensperger waâ€¦\"]\n",
            "//////\n",
            "['Really disgusting that the failing New York Times allows dishonest writers to totally fabricate stories.']\n",
            "//////\n",
            "['What an INCREDIBLE opening by @JesseBWatters. I will put it up later for everyone to see!']\n"
          ]
        }
      ]
    },
    {
      "cell_type": "code",
      "source": [
        "# Step 2:\n",
        "#   Make text's words Lower case\n",
        "for i, tweet in enumerate(tweets):\n",
        "    new_tweet = tweet.lower()\n",
        "    tweets[i] = new_tweet\n",
        "\n",
        "\n",
        "print(\"Step 2: Make text's words Lower case \")\n",
        "print(tweets[120])\n",
        "print('//////')\n",
        "print(tweets[43073])\n",
        "print('//////')\n",
        "print(tweets[10113])"
      ],
      "metadata": {
        "colab": {
          "base_uri": "https://localhost:8080/"
        },
        "id": "nt99_If-bEi2",
        "outputId": "e609c585-fa4f-4e17-dd30-167fd65fd0b9"
      },
      "execution_count": 11,
      "outputs": [
        {
          "output_type": "stream",
          "name": "stdout",
          "text": [
            "Step 2: Make text's words Lower case \n",
            "[\"rt @claire_fox5: #breaking: @gasecofstate's office confirms floyd county has found 2,600 ballots during audit. says sec. raffensperger waâ€¦\"]\n",
            "//////\n",
            "['really disgusting that the failing new york times allows dishonest writers to totally fabricate stories.']\n",
            "//////\n",
            "['what an incredible opening by @jessebwatters. i will put it up later for everyone to see!']\n"
          ]
        }
      ]
    },
    {
      "cell_type": "code",
      "source": [
        "# Step 3:\n",
        "#   Remove Handles ( Usernames ) from Tweets\n",
        "for i, tweet in enumerate(tweets):\n",
        "    new_tweet = re.sub('@[\\w]+', '', str(tweet))\n",
        "    tweets[i] = new_tweet\n",
        "\n",
        "print(\"Step 3: Remove Handles ( Usernames ) from Tweets \")\n",
        "print(tweets[120])\n",
        "print('//////')\n",
        "print(tweets[43073])\n",
        "print('//////')\n",
        "print(tweets[10113])"
      ],
      "metadata": {
        "colab": {
          "base_uri": "https://localhost:8080/"
        },
        "id": "aOX7YKyYb1Co",
        "outputId": "649935bb-564c-4679-d5fc-67e6c690c6ed"
      },
      "execution_count": 12,
      "outputs": [
        {
          "output_type": "stream",
          "name": "stdout",
          "text": [
            "Step 3: Remove Handles ( Usernames ) from Tweets \n",
            "[\"rt : #breaking: 's office confirms floyd county has found 2,600 ballots during audit. says sec. raffensperger waâ€¦\"]\n",
            "//////\n",
            "['really disgusting that the failing new york times allows dishonest writers to totally fabricate stories.']\n",
            "//////\n",
            "['what an incredible opening by . i will put it up later for everyone to see!']\n"
          ]
        }
      ]
    },
    {
      "cell_type": "code",
      "source": [
        "# Step 4:\n",
        "#   Remove punctuation, special characters and numbers from tweets\n",
        "for i, tweet in enumerate(tweets):\n",
        "    new_tweet = re.sub(\"[^a-z#&%\\$ ]+\", '', str(tweet))\n",
        "    tweets[i] = new_tweet\n",
        "\n",
        "print(\"Step 4: Remove punctuation, special characters and numbers from tweets \")\n",
        "print(tweets[120])\n",
        "print('//////')\n",
        "print(tweets[43073])\n",
        "print('//////')\n",
        "print(tweets[10113])"
      ],
      "metadata": {
        "colab": {
          "base_uri": "https://localhost:8080/"
        },
        "id": "1WQdYbNYdL2e",
        "outputId": "eea5250b-aca9-4d19-d38f-7912767c243e"
      },
      "execution_count": 13,
      "outputs": [
        {
          "output_type": "stream",
          "name": "stdout",
          "text": [
            "Step 4: Remove punctuation, special characters and numbers from tweets \n",
            "rt  #breaking s office confirms floyd county has found  ballots during audit says sec raffensperger wa\n",
            "//////\n",
            "really disgusting that the failing new york times allows dishonest writers to totally fabricate stories\n",
            "//////\n",
            "what an incredible opening by  i will put it up later for everyone to see\n"
          ]
        }
      ]
    },
    {
      "cell_type": "code",
      "source": [
        "# Step 5:\n",
        "#   Apply Tokenization\n",
        "for i, tweet in enumerate(tweets):\n",
        "    new_tweet = WhitespaceTokenizer().tokenize(tweet)\n",
        "    tweets[i] = new_tweet\n",
        "\n",
        "print(\"Step 5: Apply Tokenization \")\n",
        "print(tweets[120])\n",
        "print('//////')\n",
        "print(tweets[43073])\n",
        "print('//////')\n",
        "print(tweets[10113])"
      ],
      "metadata": {
        "colab": {
          "base_uri": "https://localhost:8080/"
        },
        "id": "BsD8ua0NfVde",
        "outputId": "d3fd7031-b1b8-4bc8-8984-c835bf0b3bc0"
      },
      "execution_count": 14,
      "outputs": [
        {
          "output_type": "stream",
          "name": "stdout",
          "text": [
            "Step 5: Apply Tokenization \n",
            "['rt', '#breaking', 's', 'office', 'confirms', 'floyd', 'county', 'has', 'found', 'ballots', 'during', 'audit', 'says', 'sec', 'raffensperger', 'wa']\n",
            "//////\n",
            "['really', 'disgusting', 'that', 'the', 'failing', 'new', 'york', 'times', 'allows', 'dishonest', 'writers', 'to', 'totally', 'fabricate', 'stories']\n",
            "//////\n",
            "['what', 'an', 'incredible', 'opening', 'by', 'i', 'will', 'put', 'it', 'up', 'later', 'for', 'everyone', 'to', 'see']\n"
          ]
        }
      ]
    },
    {
      "cell_type": "code",
      "source": [
        "# Step 6:\n",
        "#   Removing Stop words\n",
        "import nltk\n",
        "nltk.download('stopwords')\n",
        "stop_words = set(stopwords.words('english'))\n",
        "for i, tweet in enumerate(tweets):\n",
        "    new_tweet = [w for w in tweet if not w in stop_words]\n",
        "    tweets[i] = new_tweet\n",
        "\n",
        "print(\"Step 6: Removing Stop words \")\n",
        "print(tweets[120])\n",
        "print('//////')\n",
        "print(tweets[43073])\n",
        "print('//////')\n",
        "print(tweets[10113])\n"
      ],
      "metadata": {
        "colab": {
          "base_uri": "https://localhost:8080/"
        },
        "id": "hJxzLp1ogvyA",
        "outputId": "faf7999d-5b27-4dac-ed13-abc099e0e7e7"
      },
      "execution_count": 17,
      "outputs": [
        {
          "output_type": "stream",
          "name": "stdout",
          "text": [
            "[nltk_data] Downloading package stopwords to /root/nltk_data...\n",
            "[nltk_data]   Unzipping corpora/stopwords.zip.\n",
            "Step 6: Removing Stop words \n",
            "['rt', '#breaking', 'office', 'confirms', 'floyd', 'county', 'found', 'ballots', 'audit', 'says', 'sec', 'raffensperger', 'wa']\n",
            "//////\n",
            "['really', 'disgusting', 'failing', 'new', 'york', 'times', 'allows', 'dishonest', 'writers', 'totally', 'fabricate', 'stories']\n",
            "//////\n",
            "['incredible', 'opening', 'put', 'later', 'everyone', 'see']\n"
          ]
        }
      ]
    },
    {
      "cell_type": "code",
      "source": [
        "# Step 7:\n",
        "#   Remove Words with len less than 3\n",
        "for i, tweet in enumerate(tweets):\n",
        "    new_tweet = [w for w in tweet if len(w) > 2]\n",
        "    tweets[i] = new_tweet\n",
        "\n",
        "print(\"Step 7: Remove Words with len less than 3 \")\n",
        "print(tweets[120])\n",
        "print('//////')\n",
        "print(tweets[43073])\n",
        "print('//////')\n",
        "print(tweets[10113])\n"
      ],
      "metadata": {
        "colab": {
          "base_uri": "https://localhost:8080/"
        },
        "id": "VZ0dDudyjjJU",
        "outputId": "ebdb3c31-593e-4132-d7b4-43e4e7842991"
      },
      "execution_count": 18,
      "outputs": [
        {
          "output_type": "stream",
          "name": "stdout",
          "text": [
            "Step 7: Remove Words with len less than 3 \n",
            "['#breaking', 'office', 'confirms', 'floyd', 'county', 'found', 'ballots', 'audit', 'says', 'sec', 'raffensperger']\n",
            "//////\n",
            "['really', 'disgusting', 'failing', 'new', 'york', 'times', 'allows', 'dishonest', 'writers', 'totally', 'fabricate', 'stories']\n",
            "//////\n",
            "['incredible', 'opening', 'put', 'later', 'everyone', 'see']\n"
          ]
        }
      ]
    },
    {
      "cell_type": "code",
      "source": [
        "# Step 8:\n",
        "#   Stemming\n",
        "porter = PorterStemmer()\n",
        "for i, tweet in enumerate(tweets):\n",
        "    new_tweet = [porter.stem(w) for w in tweet]\n",
        "    tweets[i] = new_tweet\n",
        "\n",
        "print(\"Step 8: Stemming\")\n",
        "print(tweets[120])\n",
        "print('//////')\n",
        "print(tweets[43073])\n",
        "print('//////')\n",
        "print(tweets[10113])"
      ],
      "metadata": {
        "colab": {
          "base_uri": "https://localhost:8080/"
        },
        "id": "sRWnJZW9lQ-0",
        "outputId": "f6d2bcf5-1d78-430d-ec08-75fef8e173ae"
      },
      "execution_count": 19,
      "outputs": [
        {
          "output_type": "stream",
          "name": "stdout",
          "text": [
            "Step 8: Stemming\n",
            "['#break', 'offic', 'confirm', 'floyd', 'counti', 'found', 'ballot', 'audit', 'say', 'sec', 'raffensperg']\n",
            "//////\n",
            "['realli', 'disgust', 'fail', 'new', 'york', 'time', 'allow', 'dishonest', 'writer', 'total', 'fabric', 'stori']\n",
            "//////\n",
            "['incred', 'open', 'put', 'later', 'everyon', 'see']\n"
          ]
        }
      ]
    },
    {
      "cell_type": "code",
      "source": [
        "# rebuild tweets\n",
        "rebuild_tweets = [None]*len(tweets)\n",
        "for i, tweet in enumerate(tweets):\n",
        "    new_tweet = ' '.join(tweet)\n",
        "    rebuild_tweets[i] = new_tweet"
      ],
      "metadata": {
        "id": "-Os6xc5plx0D"
      },
      "execution_count": 20,
      "outputs": []
    },
    {
      "cell_type": "code",
      "source": [
        "# all words of tweets and their freq\n",
        "all_words = [word for tweet in tweets for word in tweet]\n",
        "top = Counter(all_words)\n",
        "print(\"Top 5 Words:\")\n",
        "print(top.most_common(5))"
      ],
      "metadata": {
        "colab": {
          "base_uri": "https://localhost:8080/"
        },
        "id": "XhfD93C8l1nr",
        "outputId": "f4c39c8a-bc3c-416c-e054-f6483a9c21ee"
      },
      "execution_count": 21,
      "outputs": [
        {
          "output_type": "stream",
          "name": "stdout",
          "text": [
            "Top 5 Words:\n",
            "[('great', 7620), ('trump', 6464), ('thank', 5771), ('&amp', 5556), ('presid', 4831)]\n"
          ]
        }
      ]
    },
    {
      "cell_type": "code",
      "source": [
        "# Word Cloud\n",
        "wordcloud = WordCloud(width = 600, height = 600, background_color ='white', min_font_size = 12).generate(\" \".join(all_words))\n",
        "\n",
        "plt.figure()\n",
        "plt.imshow(wordcloud)\n",
        "plt.axis(\"off\")\n",
        "plt.show()"
      ],
      "metadata": {
        "colab": {
          "base_uri": "https://localhost:8080/",
          "height": 248
        },
        "id": "lQSUDs8imHWC",
        "outputId": "11528282-60ac-4770-b1b7-69cefa612aab"
      },
      "execution_count": 22,
      "outputs": [
        {
          "output_type": "display_data",
          "data": {
            "text/plain": [
              "<Figure size 432x288 with 1 Axes>"
            ],
            "image/png": "[encoded data removed]"
          },
          "metadata": {
            "needs_background": "light"
          }
        }
      ]
    },
    {
      "cell_type": "code",
      "source": [
        "string_of_All = \" \".join(all_words)\n",
        "trend_reg = re.compile(r\"#\\w+\")\n",
        "trends = Counter(trend_reg.findall(string_of_All))\n",
        "trends = trends.most_common(5)\n",
        "print(trends)\n",
        "plt.bar([title for title, freq in trends], [freq for title, freq in trends])\n",
        "plt.title(\"Trending Hashtags\")\n",
        "plt.xticks(rotation=90)\n",
        "plt.show()"
      ],
      "metadata": {
        "colab": {
          "base_uri": "https://localhost:8080/",
          "height": 419
        },
        "id": "Q7Vm84NTmy2y",
        "outputId": "a0436ddb-0617-4210-8638-8243b2e03b9a"
      },
      "execution_count": 23,
      "outputs": [
        {
          "output_type": "stream",
          "name": "stdout",
          "text": [
            "[('#trump', 995), ('#makeamericagreatagain', 556), ('#maga', 518), ('#celebapprentic', 295), ('#celebrityapprentic', 151)]\n"
          ]
        },
        {
          "output_type": "display_data",
          "data": {
            "text/plain": [
              "<Figure size 432x288 with 1 Axes>"
            ],
            "image/png": "[encoded data removed]"
          },
          "metadata": {
            "needs_background": "light"
          }
        }
      ]
    },
    {
      "cell_type": "code",
      "source": [
        "header = ['original tweet', 'preprocessed tweet']\n",
        "\n",
        "\n",
        "with open('tweets_processed.csv', 'w', encoding='UTF8') as f:\n",
        "    writer = csv.writer(f)\n",
        "\n",
        "    # write the header\n",
        "    writer.writerow(header)\n",
        "\n",
        "    # write the data\n",
        "    all = []\n",
        "    for i in range(len(unchanged_tweets)):\n",
        "        all.append([unchanged_tweets[i], rebuild_tweets[i]])\n",
        "\n",
        "    writer.writerows(all)"
      ],
      "metadata": {
        "id": "R80gRHofoMjc"
      },
      "execution_count": 24,
      "outputs": []
    }
  ]
}